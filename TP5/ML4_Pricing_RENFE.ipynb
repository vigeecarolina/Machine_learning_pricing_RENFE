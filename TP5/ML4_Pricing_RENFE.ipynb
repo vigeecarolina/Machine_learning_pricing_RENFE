{
  "cells": [
    {
      "cell_type": "markdown",
      "metadata": {
        "id": "view-in-github",
        "colab_type": "text"
      },
      "source": [
        "<a href=\"https://colab.research.google.com/github/vigeecarolina/Machine_learning_pricing_RENFE/blob/https%2Fcolab.research.google.com%2Fdrive%2F1tar5LJfTbEtB87W6UGDXAN7KuS55GugR/TP5/ML4_Pricing_RENFE.ipynb\" target=\"_parent\"><img src=\"https://colab.research.google.com/assets/colab-badge.svg\" alt=\"Open In Colab\"/></a>"
      ]
    },
    {
      "cell_type": "markdown",
      "metadata": {
        "id": "U_4oXNJpFSgI"
      },
      "source": [
        "# REGRESION PRICING RENFE"
      ]
    },
    {
      "cell_type": "markdown",
      "metadata": {
        "id": "Ncr0W2U0FSgO"
      },
      "source": [
        "**ENUNCIADO: Se pide completar el flujo completo de Regresion ML para entrenar un modelo de pricing de viajes de tren a partir de los datos de Renfe.**\n",
        "\n",
        "* El dataset contiene la siguiente informacion de venta de tickets de trenes:\n",
        "  * PRICE: Precio del billete (target)\n",
        "  * ORIGIN: Origen del viaje.\n",
        "  * DESTINATION: Destino del viaje.\n",
        "  * DEPARTURE: Fecha hora de salida\n",
        "  * ARRIVAL: Fecha hora de llegada\n",
        "  * DURATION: Duracion estimada del trayecto\n",
        "  * VEHICLE_TYPE: Tipo de tren\n",
        "  * VEHICLE_CLASS: Clase de cabina\n",
        "  * FARE: Tipo de tarifa\n",
        "  * SEATS: asientos disponibles a este precio\n",
        "\n",
        "* Fuente: https://www.kaggle.com/datasets/thegurusteam/spanish-high-speed-rail-system-ticket-pricing?select=thegurus-opendata-renfe-trips.csv"
      ]
    },
    {
      "cell_type": "markdown",
      "metadata": {
        "id": "ivd2tpuYFSgP"
      },
      "source": [
        "# Import libraries"
      ]
    },
    {
      "cell_type": "code",
      "source": [
        "!pip install shap"
      ],
      "metadata": {
        "colab": {
          "base_uri": "https://localhost:8080/"
        },
        "id": "WJ9rBGa4FUlf",
        "outputId": "901c9c4e-f675-49b3-a99e-794b63962697"
      },
      "execution_count": null,
      "outputs": [
        {
          "output_type": "stream",
          "name": "stdout",
          "text": [
            "Looking in indexes: https://pypi.org/simple, https://us-python.pkg.dev/colab-wheels/public/simple/\n",
            "Requirement already satisfied: shap in /usr/local/lib/python3.7/dist-packages (0.41.0)\n",
            "Requirement already satisfied: scipy in /usr/local/lib/python3.7/dist-packages (from shap) (1.7.3)\n",
            "Requirement already satisfied: slicer==0.0.7 in /usr/local/lib/python3.7/dist-packages (from shap) (0.0.7)\n",
            "Requirement already satisfied: numba in /usr/local/lib/python3.7/dist-packages (from shap) (0.56.4)\n",
            "Requirement already satisfied: pandas in /usr/local/lib/python3.7/dist-packages (from shap) (1.3.5)\n",
            "Requirement already satisfied: packaging>20.9 in /usr/local/lib/python3.7/dist-packages (from shap) (21.3)\n",
            "Requirement already satisfied: cloudpickle in /usr/local/lib/python3.7/dist-packages (from shap) (1.5.0)\n",
            "Requirement already satisfied: tqdm>4.25.0 in /usr/local/lib/python3.7/dist-packages (from shap) (4.64.1)\n",
            "Requirement already satisfied: numpy in /usr/local/lib/python3.7/dist-packages (from shap) (1.21.6)\n",
            "Requirement already satisfied: scikit-learn in /usr/local/lib/python3.7/dist-packages (from shap) (1.0.2)\n",
            "Requirement already satisfied: pyparsing!=3.0.5,>=2.0.2 in /usr/local/lib/python3.7/dist-packages (from packaging>20.9->shap) (3.0.9)\n",
            "Requirement already satisfied: setuptools in /usr/local/lib/python3.7/dist-packages (from numba->shap) (57.4.0)\n",
            "Requirement already satisfied: llvmlite<0.40,>=0.39.0dev0 in /usr/local/lib/python3.7/dist-packages (from numba->shap) (0.39.1)\n",
            "Requirement already satisfied: importlib-metadata in /usr/local/lib/python3.7/dist-packages (from numba->shap) (4.13.0)\n",
            "Requirement already satisfied: zipp>=0.5 in /usr/local/lib/python3.7/dist-packages (from importlib-metadata->numba->shap) (3.10.0)\n",
            "Requirement already satisfied: typing-extensions>=3.6.4 in /usr/local/lib/python3.7/dist-packages (from importlib-metadata->numba->shap) (4.1.1)\n",
            "Requirement already satisfied: python-dateutil>=2.7.3 in /usr/local/lib/python3.7/dist-packages (from pandas->shap) (2.8.2)\n",
            "Requirement already satisfied: pytz>=2017.3 in /usr/local/lib/python3.7/dist-packages (from pandas->shap) (2022.6)\n",
            "Requirement already satisfied: six>=1.5 in /usr/local/lib/python3.7/dist-packages (from python-dateutil>=2.7.3->pandas->shap) (1.15.0)\n",
            "Requirement already satisfied: joblib>=0.11 in /usr/local/lib/python3.7/dist-packages (from scikit-learn->shap) (1.2.0)\n",
            "Requirement already satisfied: threadpoolctl>=2.0.0 in /usr/local/lib/python3.7/dist-packages (from scikit-learn->shap) (3.1.0)\n"
          ]
        }
      ]
    },
    {
      "cell_type": "code",
      "execution_count": null,
      "metadata": {
        "id": "Nl0_drpzFSgP"
      },
      "outputs": [],
      "source": [
        "import numpy as np\n",
        "import pandas as pd\n",
        "import matplotlib.pyplot as plt\n",
        "%matplotlib inline\n",
        "from matplotlib import rcParams\n",
        "import seaborn as sns\n",
        "import missingno as msno\n",
        "\n",
        "# Preprocessing\n",
        "from sklearn.impute import SimpleImputer\n",
        "from sklearn.preprocessing import StandardScaler, PolynomialFeatures\n",
        "from scipy import stats\n",
        "\n",
        "# Modelizacion\n",
        "from sklearn.linear_model import LinearRegression, Ridge, Lasso, ElasticNet, SGDRegressor\n",
        "from sklearn.tree import DecisionTreeRegressor\n",
        "from sklearn.neighbors import KNeighborsRegressor\n",
        "from sklearn.ensemble import RandomForestRegressor\n",
        "import xgboost as xgb\n",
        "\n",
        "# Evaluacion\n",
        "from sklearn.metrics import mean_absolute_error, mean_squared_error, r2_score, make_scorer\n",
        "from sklearn.model_selection import train_test_split, cross_val_score, KFold, cross_val_score\n",
        "from sklearn import metrics\n",
        "from xgboost import plot_tree\n",
        "import shap\n",
        "from scipy.stats import pearsonr\n",
        "\n",
        "import warnings\n",
        "warnings.filterwarnings(\"ignore\")\n",
        "\n",
        "import pickle\n",
        "plt.rcParams[\"figure.figsize\"] = [10,6]"
      ]
    },
    {
      "cell_type": "markdown",
      "metadata": {
        "id": "TFWN88RzFSgT"
      },
      "source": [
        "Dejo algunas funciones de ayuda..."
      ]
    },
    {
      "cell_type": "markdown",
      "source": [
        "# Load dataset"
      ],
      "metadata": {
        "id": "z9kGU5PmOZOr"
      }
    },
    {
      "cell_type": "code",
      "source": [
        "from google.colab import drive\n",
        "drive.mount('/content/drive')"
      ],
      "metadata": {
        "colab": {
          "base_uri": "https://localhost:8080/"
        },
        "id": "c9QedV9WNyV0",
        "outputId": "18e0a7fe-2f67-44a0-9941-c3045da59b8f"
      },
      "execution_count": null,
      "outputs": [
        {
          "output_type": "stream",
          "name": "stdout",
          "text": [
            "Mounted at /content/drive\n"
          ]
        }
      ]
    },
    {
      "cell_type": "code",
      "source": [
        "# Read traintest dataset\n",
        "df = pd.read_csv('/content/drive/MyDrive/Colab Notebooks/SUPERVISED ML/DSC - Regresion (III)/renfe_traintest.csv',index_col =0)"
      ],
      "metadata": {
        "id": "2hjwbZr8NuR7"
      },
      "execution_count": null,
      "outputs": []
    },
    {
      "cell_type": "code",
      "source": [
        "df.head()"
      ],
      "metadata": {
        "colab": {
          "base_uri": "https://localhost:8080/",
          "height": 206
        },
        "id": "lmcSLtnwGU1A",
        "outputId": "8dd6a5e1-a438-4b20-8edf-acd2a8a15562"
      },
      "execution_count": null,
      "outputs": [
        {
          "output_type": "execute_result",
          "data": {
            "text/plain": [
              "             origin destination            departure              arrival  \\\n",
              "14387354     MADRID    VALENCIA  2019-08-29 16:55:00  2019-08-29 21:58:00   \n",
              "1888610   BARCELONA      MADRID  2019-04-30 12:50:00  2019-04-30 15:45:00   \n",
              "22069490     MADRID      MALAGA  2020-04-26 15:35:00  2020-04-26 18:06:00   \n",
              "22152672   VALENCIA      MADRID  2020-04-17 18:10:00  2020-04-17 19:57:00   \n",
              "14407416    SEVILLA      MADRID  2019-10-13 12:18:00  2019-10-13 14:56:00   \n",
              "\n",
              "          duration vehicle_type       vehicle_class  price      fare  seats  \\\n",
              "14387354      5.05       AVE-LD  Turista con enlace  39.25     Promo    NaN   \n",
              "1888610       2.92      AVE-TGV             Turista  85.10     Promo    NaN   \n",
              "22069490      2.52          AVE          Preferente  73.85     Promo    NaN   \n",
              "22152672      1.78          AVE             Turista  51.75     Promo    NaN   \n",
              "14407416      2.63        ALVIA             Turista  67.20  Flexible    NaN   \n",
              "\n",
              "                  insert_date  \n",
              "14387354  2019-08-16 12:02:16  \n",
              "1888610   2019-04-18 22:20:08  \n",
              "22069490  2020-03-01 03:18:13  \n",
              "22152672  2020-03-01 18:54:54  \n",
              "14407416  2019-08-16 15:36:19  "
            ],
            "text/html": [
              "\n",
              "  <div id=\"df-cacadd5d-973d-41c9-9cb0-c59e198d6e88\">\n",
              "    <div class=\"colab-df-container\">\n",
              "      <div>\n",
              "<style scoped>\n",
              "    .dataframe tbody tr th:only-of-type {\n",
              "        vertical-align: middle;\n",
              "    }\n",
              "\n",
              "    .dataframe tbody tr th {\n",
              "        vertical-align: top;\n",
              "    }\n",
              "\n",
              "    .dataframe thead th {\n",
              "        text-align: right;\n",
              "    }\n",
              "</style>\n",
              "<table border=\"1\" class=\"dataframe\">\n",
              "  <thead>\n",
              "    <tr style=\"text-align: right;\">\n",
              "      <th></th>\n",
              "      <th>origin</th>\n",
              "      <th>destination</th>\n",
              "      <th>departure</th>\n",
              "      <th>arrival</th>\n",
              "      <th>duration</th>\n",
              "      <th>vehicle_type</th>\n",
              "      <th>vehicle_class</th>\n",
              "      <th>price</th>\n",
              "      <th>fare</th>\n",
              "      <th>seats</th>\n",
              "      <th>insert_date</th>\n",
              "    </tr>\n",
              "  </thead>\n",
              "  <tbody>\n",
              "    <tr>\n",
              "      <th>14387354</th>\n",
              "      <td>MADRID</td>\n",
              "      <td>VALENCIA</td>\n",
              "      <td>2019-08-29 16:55:00</td>\n",
              "      <td>2019-08-29 21:58:00</td>\n",
              "      <td>5.05</td>\n",
              "      <td>AVE-LD</td>\n",
              "      <td>Turista con enlace</td>\n",
              "      <td>39.25</td>\n",
              "      <td>Promo</td>\n",
              "      <td>NaN</td>\n",
              "      <td>2019-08-16 12:02:16</td>\n",
              "    </tr>\n",
              "    <tr>\n",
              "      <th>1888610</th>\n",
              "      <td>BARCELONA</td>\n",
              "      <td>MADRID</td>\n",
              "      <td>2019-04-30 12:50:00</td>\n",
              "      <td>2019-04-30 15:45:00</td>\n",
              "      <td>2.92</td>\n",
              "      <td>AVE-TGV</td>\n",
              "      <td>Turista</td>\n",
              "      <td>85.10</td>\n",
              "      <td>Promo</td>\n",
              "      <td>NaN</td>\n",
              "      <td>2019-04-18 22:20:08</td>\n",
              "    </tr>\n",
              "    <tr>\n",
              "      <th>22069490</th>\n",
              "      <td>MADRID</td>\n",
              "      <td>MALAGA</td>\n",
              "      <td>2020-04-26 15:35:00</td>\n",
              "      <td>2020-04-26 18:06:00</td>\n",
              "      <td>2.52</td>\n",
              "      <td>AVE</td>\n",
              "      <td>Preferente</td>\n",
              "      <td>73.85</td>\n",
              "      <td>Promo</td>\n",
              "      <td>NaN</td>\n",
              "      <td>2020-03-01 03:18:13</td>\n",
              "    </tr>\n",
              "    <tr>\n",
              "      <th>22152672</th>\n",
              "      <td>VALENCIA</td>\n",
              "      <td>MADRID</td>\n",
              "      <td>2020-04-17 18:10:00</td>\n",
              "      <td>2020-04-17 19:57:00</td>\n",
              "      <td>1.78</td>\n",
              "      <td>AVE</td>\n",
              "      <td>Turista</td>\n",
              "      <td>51.75</td>\n",
              "      <td>Promo</td>\n",
              "      <td>NaN</td>\n",
              "      <td>2020-03-01 18:54:54</td>\n",
              "    </tr>\n",
              "    <tr>\n",
              "      <th>14407416</th>\n",
              "      <td>SEVILLA</td>\n",
              "      <td>MADRID</td>\n",
              "      <td>2019-10-13 12:18:00</td>\n",
              "      <td>2019-10-13 14:56:00</td>\n",
              "      <td>2.63</td>\n",
              "      <td>ALVIA</td>\n",
              "      <td>Turista</td>\n",
              "      <td>67.20</td>\n",
              "      <td>Flexible</td>\n",
              "      <td>NaN</td>\n",
              "      <td>2019-08-16 15:36:19</td>\n",
              "    </tr>\n",
              "  </tbody>\n",
              "</table>\n",
              "</div>\n",
              "      <button class=\"colab-df-convert\" onclick=\"convertToInteractive('df-cacadd5d-973d-41c9-9cb0-c59e198d6e88')\"\n",
              "              title=\"Convert this dataframe to an interactive table.\"\n",
              "              style=\"display:none;\">\n",
              "        \n",
              "  <svg xmlns=\"http://www.w3.org/2000/svg\" height=\"24px\"viewBox=\"0 0 24 24\"\n",
              "       width=\"24px\">\n",
              "    <path d=\"M0 0h24v24H0V0z\" fill=\"none\"/>\n",
              "    <path d=\"M18.56 5.44l.94 2.06.94-2.06 2.06-.94-2.06-.94-.94-2.06-.94 2.06-2.06.94zm-11 1L8.5 8.5l.94-2.06 2.06-.94-2.06-.94L8.5 2.5l-.94 2.06-2.06.94zm10 10l.94 2.06.94-2.06 2.06-.94-2.06-.94-.94-2.06-.94 2.06-2.06.94z\"/><path d=\"M17.41 7.96l-1.37-1.37c-.4-.4-.92-.59-1.43-.59-.52 0-1.04.2-1.43.59L10.3 9.45l-7.72 7.72c-.78.78-.78 2.05 0 2.83L4 21.41c.39.39.9.59 1.41.59.51 0 1.02-.2 1.41-.59l7.78-7.78 2.81-2.81c.8-.78.8-2.07 0-2.86zM5.41 20L4 18.59l7.72-7.72 1.47 1.35L5.41 20z\"/>\n",
              "  </svg>\n",
              "      </button>\n",
              "      \n",
              "  <style>\n",
              "    .colab-df-container {\n",
              "      display:flex;\n",
              "      flex-wrap:wrap;\n",
              "      gap: 12px;\n",
              "    }\n",
              "\n",
              "    .colab-df-convert {\n",
              "      background-color: #E8F0FE;\n",
              "      border: none;\n",
              "      border-radius: 50%;\n",
              "      cursor: pointer;\n",
              "      display: none;\n",
              "      fill: #1967D2;\n",
              "      height: 32px;\n",
              "      padding: 0 0 0 0;\n",
              "      width: 32px;\n",
              "    }\n",
              "\n",
              "    .colab-df-convert:hover {\n",
              "      background-color: #E2EBFA;\n",
              "      box-shadow: 0px 1px 2px rgba(60, 64, 67, 0.3), 0px 1px 3px 1px rgba(60, 64, 67, 0.15);\n",
              "      fill: #174EA6;\n",
              "    }\n",
              "\n",
              "    [theme=dark] .colab-df-convert {\n",
              "      background-color: #3B4455;\n",
              "      fill: #D2E3FC;\n",
              "    }\n",
              "\n",
              "    [theme=dark] .colab-df-convert:hover {\n",
              "      background-color: #434B5C;\n",
              "      box-shadow: 0px 1px 3px 1px rgba(0, 0, 0, 0.15);\n",
              "      filter: drop-shadow(0px 1px 2px rgba(0, 0, 0, 0.3));\n",
              "      fill: #FFFFFF;\n",
              "    }\n",
              "  </style>\n",
              "\n",
              "      <script>\n",
              "        const buttonEl =\n",
              "          document.querySelector('#df-cacadd5d-973d-41c9-9cb0-c59e198d6e88 button.colab-df-convert');\n",
              "        buttonEl.style.display =\n",
              "          google.colab.kernel.accessAllowed ? 'block' : 'none';\n",
              "\n",
              "        async function convertToInteractive(key) {\n",
              "          const element = document.querySelector('#df-cacadd5d-973d-41c9-9cb0-c59e198d6e88');\n",
              "          const dataTable =\n",
              "            await google.colab.kernel.invokeFunction('convertToInteractive',\n",
              "                                                     [key], {});\n",
              "          if (!dataTable) return;\n",
              "\n",
              "          const docLinkHtml = 'Like what you see? Visit the ' +\n",
              "            '<a target=\"_blank\" href=https://colab.research.google.com/notebooks/data_table.ipynb>data table notebook</a>'\n",
              "            + ' to learn more about interactive tables.';\n",
              "          element.innerHTML = '';\n",
              "          dataTable['output_type'] = 'display_data';\n",
              "          await google.colab.output.renderOutput(dataTable, element);\n",
              "          const docLink = document.createElement('div');\n",
              "          docLink.innerHTML = docLinkHtml;\n",
              "          element.appendChild(docLink);\n",
              "        }\n",
              "      </script>\n",
              "    </div>\n",
              "  </div>\n",
              "  "
            ]
          },
          "metadata": {},
          "execution_count": 80
        }
      ]
    },
    {
      "cell_type": "code",
      "source": [
        "df.reset_index(drop=True,inplace=True)"
      ],
      "metadata": {
        "id": "XcsYs9WbO_Jk"
      },
      "execution_count": null,
      "outputs": []
    },
    {
      "cell_type": "markdown",
      "metadata": {
        "id": "UKwY0VFcFSgX"
      },
      "source": [
        "# ML PREPROCESSING"
      ]
    },
    {
      "cell_type": "markdown",
      "source": [
        "## Duplicated rows and empty columns"
      ],
      "metadata": {
        "id": "XBxTNtd0Pp_9"
      }
    },
    {
      "cell_type": "code",
      "source": [
        "print(df.duplicated().sum(),'duplicated rows were deleted')\n",
        "df.drop_duplicates(inplace=True)\n",
        "print(df.shape)"
      ],
      "metadata": {
        "colab": {
          "base_uri": "https://localhost:8080/"
        },
        "id": "8Ns1EbaZPfV_",
        "outputId": "6b778572-1a7e-44b0-9084-8eea5b62ca3a"
      },
      "execution_count": null,
      "outputs": [
        {
          "output_type": "stream",
          "name": "stdout",
          "text": [
            "326 duplicated rows were deleted\n",
            "(199674, 11)\n"
          ]
        }
      ]
    },
    {
      "cell_type": "code",
      "source": [
        "print((df.isna().sum(axis=1)==df.shape[1]).sum(),'all-empty rows were deleted')\n",
        "df.dropna(axis=0, how='all',inplace=True)\n",
        "print(df.shape)"
      ],
      "metadata": {
        "colab": {
          "base_uri": "https://localhost:8080/"
        },
        "id": "nVVr_IMdQAkl",
        "outputId": "9b48aee7-7ca4-40a9-8bfc-88cd0372056d"
      },
      "execution_count": null,
      "outputs": [
        {
          "output_type": "stream",
          "name": "stdout",
          "text": [
            "0 all-empty rows were deleted\n",
            "(199674, 11)\n"
          ]
        }
      ]
    },
    {
      "cell_type": "code",
      "source": [
        "print(df['price'].isna().sum(),'rows with null target were deleted')\n",
        "df.dropna(subset=['price'],inplace=True)"
      ],
      "metadata": {
        "colab": {
          "base_uri": "https://localhost:8080/"
        },
        "id": "p56dGpINh8Kk",
        "outputId": "bec0b15c-072d-4d84-a400-bba9b0ac77a8"
      },
      "execution_count": null,
      "outputs": [
        {
          "output_type": "stream",
          "name": "stdout",
          "text": [
            "0 rows with null target were deleted\n"
          ]
        }
      ]
    },
    {
      "cell_type": "markdown",
      "metadata": {
        "id": "A6WiFJ-_FSgg"
      },
      "source": [
        "## Data types"
      ]
    },
    {
      "cell_type": "code",
      "execution_count": null,
      "metadata": {
        "colab": {
          "base_uri": "https://localhost:8080/"
        },
        "id": "Xq7Ekr9hFSgh",
        "outputId": "05d61738-e4c1-4423-b0ec-5e1fa9788daa"
      },
      "outputs": [
        {
          "output_type": "stream",
          "name": "stdout",
          "text": [
            "<class 'pandas.core.frame.DataFrame'>\n",
            "Int64Index: 199674 entries, 0 to 199999\n",
            "Data columns (total 11 columns):\n",
            " #   Column         Non-Null Count   Dtype  \n",
            "---  ------         --------------   -----  \n",
            " 0   origin         199674 non-null  object \n",
            " 1   destination    199674 non-null  object \n",
            " 2   departure      199674 non-null  object \n",
            " 3   arrival        199674 non-null  object \n",
            " 4   duration       199674 non-null  float64\n",
            " 5   vehicle_type   199674 non-null  object \n",
            " 6   vehicle_class  199674 non-null  object \n",
            " 7   price          199674 non-null  float64\n",
            " 8   fare           199674 non-null  object \n",
            " 9   seats          8418 non-null    float64\n",
            " 10  insert_date    199674 non-null  object \n",
            "dtypes: float64(3), object(8)\n",
            "memory usage: 18.3+ MB\n"
          ]
        }
      ],
      "source": [
        "df.info()"
      ]
    },
    {
      "cell_type": "code",
      "source": [
        "for i in ('departure','arrival','insert_date'):\n",
        "  df[i] = pd.to_datetime(df[i])"
      ],
      "metadata": {
        "id": "MOyi2HSiJuyi"
      },
      "execution_count": null,
      "outputs": []
    },
    {
      "cell_type": "markdown",
      "source": [
        "## Split X-y"
      ],
      "metadata": {
        "id": "P83RJlXfP4RV"
      }
    },
    {
      "cell_type": "code",
      "source": [
        "# Divide dataset en matriz de variables (X) y output (y)\n",
        "target = 'price'\n",
        "features = df.columns[df.columns!=target]\n",
        "\n",
        "X = df[features]\n",
        "y = df[target]"
      ],
      "metadata": {
        "id": "6rLd79HJPTBv"
      },
      "execution_count": null,
      "outputs": []
    },
    {
      "cell_type": "markdown",
      "metadata": {
        "id": "5yTi4ESWFSge"
      },
      "source": [
        "## EDA: Analisis exploratorio"
      ]
    },
    {
      "cell_type": "markdown",
      "source": [
        "(breve)"
      ],
      "metadata": {
        "id": "xMOZ8zT5R6BF"
      }
    },
    {
      "cell_type": "code",
      "execution_count": null,
      "metadata": {
        "colab": {
          "base_uri": "https://localhost:8080/",
          "height": 404
        },
        "id": "kh5i4D2OFSgf",
        "outputId": "62ce3244-dc2f-4931-f9b8-3b8a0f7bbc8e"
      },
      "outputs": [
        {
          "output_type": "display_data",
          "data": {
            "text/plain": [
              "<Figure size 720x432 with 1 Axes>"
            ],
            "image/png": "[encoded data removed]"
          },
          "metadata": {
            "needs_background": "light"
          }
        }
      ],
      "source": [
        "sns.distplot(y)\n",
        "plt.title('Target Distribution: '+target)\n",
        "plt.show()"
      ]
    },
    {
      "cell_type": "code",
      "source": [
        "y.describe().T"
      ],
      "metadata": {
        "colab": {
          "base_uri": "https://localhost:8080/"
        },
        "id": "uVQvqELgihis",
        "outputId": "be48a722-d71b-47ba-8258-255c568eb28d"
      },
      "execution_count": null,
      "outputs": [
        {
          "output_type": "execute_result",
          "data": {
            "text/plain": [
              "count    199674.000000\n",
              "mean         58.265872\n",
              "std          24.821777\n",
              "min           5.650000\n",
              "25%          39.250000\n",
              "50%          55.700000\n",
              "75%          75.400000\n",
              "max         290.400000\n",
              "Name: price, dtype: float64"
            ]
          },
          "metadata": {},
          "execution_count": 91
        }
      ]
    },
    {
      "cell_type": "code",
      "source": [
        "X.describe(include='all').T"
      ],
      "metadata": {
        "colab": {
          "base_uri": "https://localhost:8080/",
          "height": 363
        },
        "id": "FPUscHT4RP7b",
        "outputId": "69220fce-a5f1-4c8b-cc8f-31c6455ae8ff"
      },
      "execution_count": null,
      "outputs": [
        {
          "output_type": "execute_result",
          "data": {
            "text/plain": [
              "                  count  unique                  top    freq  \\\n",
              "origin           199674      30               MADRID   98262   \n",
              "destination      199674      30               MADRID   99486   \n",
              "departure        199674   54857  2019-06-02 17:30:00      50   \n",
              "arrival          199674   63951  2019-05-29 14:20:00      34   \n",
              "duration       199674.0     NaN                  NaN     NaN   \n",
              "vehicle_type     199674      30                  AVE  133025   \n",
              "vehicle_class    199674      10              Turista  155486   \n",
              "fare             199674      10                Promo  106426   \n",
              "seats            8418.0     NaN                  NaN     NaN   \n",
              "insert_date      199674  164263  2020-09-30 20:00:00     105   \n",
              "\n",
              "                            first                last        mean        std  \\\n",
              "origin                        NaT                 NaT         NaN        NaN   \n",
              "destination                   NaT                 NaT         NaN        NaN   \n",
              "departure     2019-04-12 09:40:00 2020-12-05 17:10:00         NaN        NaN   \n",
              "arrival       2019-04-12 11:24:00 2020-12-05 18:50:12         NaN        NaN   \n",
              "duration                      NaT                 NaT    2.893705   1.561707   \n",
              "vehicle_type                  NaT                 NaT         NaN        NaN   \n",
              "vehicle_class                 NaT                 NaT         NaN        NaN   \n",
              "fare                          NaT                 NaT         NaN        NaN   \n",
              "seats                         NaT                 NaT  220.079116  72.957453   \n",
              "insert_date   2019-04-11 21:49:48 2020-10-07 12:00:00         NaN        NaN   \n",
              "\n",
              "                min    25%    50%    75%    max  \n",
              "origin          NaN    NaN    NaN    NaN    NaN  \n",
              "destination     NaN    NaN    NaN    NaN    NaN  \n",
              "departure       NaN    NaN    NaN    NaN    NaN  \n",
              "arrival         NaN    NaN    NaN    NaN    NaN  \n",
              "duration       0.37   1.87   2.53   3.13  12.42  \n",
              "vehicle_type    NaN    NaN    NaN    NaN    NaN  \n",
              "vehicle_class   NaN    NaN    NaN    NaN    NaN  \n",
              "fare            NaN    NaN    NaN    NaN    NaN  \n",
              "seats           6.0  205.0  238.0  262.0  334.0  \n",
              "insert_date     NaN    NaN    NaN    NaN    NaN  "
            ],
            "text/html": [
              "\n",
              "  <div id=\"df-c2935a96-fb08-48f1-824e-306572c724a0\">\n",
              "    <div class=\"colab-df-container\">\n",
              "      <div>\n",
              "<style scoped>\n",
              "    .dataframe tbody tr th:only-of-type {\n",
              "        vertical-align: middle;\n",
              "    }\n",
              "\n",
              "    .dataframe tbody tr th {\n",
              "        vertical-align: top;\n",
              "    }\n",
              "\n",
              "    .dataframe thead th {\n",
              "        text-align: right;\n",
              "    }\n",
              "</style>\n",
              "<table border=\"1\" class=\"dataframe\">\n",
              "  <thead>\n",
              "    <tr style=\"text-align: right;\">\n",
              "      <th></th>\n",
              "      <th>count</th>\n",
              "      <th>unique</th>\n",
              "      <th>top</th>\n",
              "      <th>freq</th>\n",
              "      <th>first</th>\n",
              "      <th>last</th>\n",
              "      <th>mean</th>\n",
              "      <th>std</th>\n",
              "      <th>min</th>\n",
              "      <th>25%</th>\n",
              "      <th>50%</th>\n",
              "      <th>75%</th>\n",
              "      <th>max</th>\n",
              "    </tr>\n",
              "  </thead>\n",
              "  <tbody>\n",
              "    <tr>\n",
              "      <th>origin</th>\n",
              "      <td>199674</td>\n",
              "      <td>30</td>\n",
              "      <td>MADRID</td>\n",
              "      <td>98262</td>\n",
              "      <td>NaT</td>\n",
              "      <td>NaT</td>\n",
              "      <td>NaN</td>\n",
              "      <td>NaN</td>\n",
              "      <td>NaN</td>\n",
              "      <td>NaN</td>\n",
              "      <td>NaN</td>\n",
              "      <td>NaN</td>\n",
              "      <td>NaN</td>\n",
              "    </tr>\n",
              "    <tr>\n",
              "      <th>destination</th>\n",
              "      <td>199674</td>\n",
              "      <td>30</td>\n",
              "      <td>MADRID</td>\n",
              "      <td>99486</td>\n",
              "      <td>NaT</td>\n",
              "      <td>NaT</td>\n",
              "      <td>NaN</td>\n",
              "      <td>NaN</td>\n",
              "      <td>NaN</td>\n",
              "      <td>NaN</td>\n",
              "      <td>NaN</td>\n",
              "      <td>NaN</td>\n",
              "      <td>NaN</td>\n",
              "    </tr>\n",
              "    <tr>\n",
              "      <th>departure</th>\n",
              "      <td>199674</td>\n",
              "      <td>54857</td>\n",
              "      <td>2019-06-02 17:30:00</td>\n",
              "      <td>50</td>\n",
              "      <td>2019-04-12 09:40:00</td>\n",
              "      <td>2020-12-05 17:10:00</td>\n",
              "      <td>NaN</td>\n",
              "      <td>NaN</td>\n",
              "      <td>NaN</td>\n",
              "      <td>NaN</td>\n",
              "      <td>NaN</td>\n",
              "      <td>NaN</td>\n",
              "      <td>NaN</td>\n",
              "    </tr>\n",
              "    <tr>\n",
              "      <th>arrival</th>\n",
              "      <td>199674</td>\n",
              "      <td>63951</td>\n",
              "      <td>2019-05-29 14:20:00</td>\n",
              "      <td>34</td>\n",
              "      <td>2019-04-12 11:24:00</td>\n",
              "      <td>2020-12-05 18:50:12</td>\n",
              "      <td>NaN</td>\n",
              "      <td>NaN</td>\n",
              "      <td>NaN</td>\n",
              "      <td>NaN</td>\n",
              "      <td>NaN</td>\n",
              "      <td>NaN</td>\n",
              "      <td>NaN</td>\n",
              "    </tr>\n",
              "    <tr>\n",
              "      <th>duration</th>\n",
              "      <td>199674.0</td>\n",
              "      <td>NaN</td>\n",
              "      <td>NaN</td>\n",
              "      <td>NaN</td>\n",
              "      <td>NaT</td>\n",
              "      <td>NaT</td>\n",
              "      <td>2.893705</td>\n",
              "      <td>1.561707</td>\n",
              "      <td>0.37</td>\n",
              "      <td>1.87</td>\n",
              "      <td>2.53</td>\n",
              "      <td>3.13</td>\n",
              "      <td>12.42</td>\n",
              "    </tr>\n",
              "    <tr>\n",
              "      <th>vehicle_type</th>\n",
              "      <td>199674</td>\n",
              "      <td>30</td>\n",
              "      <td>AVE</td>\n",
              "      <td>133025</td>\n",
              "      <td>NaT</td>\n",
              "      <td>NaT</td>\n",
              "      <td>NaN</td>\n",
              "      <td>NaN</td>\n",
              "      <td>NaN</td>\n",
              "      <td>NaN</td>\n",
              "      <td>NaN</td>\n",
              "      <td>NaN</td>\n",
              "      <td>NaN</td>\n",
              "    </tr>\n",
              "    <tr>\n",
              "      <th>vehicle_class</th>\n",
              "      <td>199674</td>\n",
              "      <td>10</td>\n",
              "      <td>Turista</td>\n",
              "      <td>155486</td>\n",
              "      <td>NaT</td>\n",
              "      <td>NaT</td>\n",
              "      <td>NaN</td>\n",
              "      <td>NaN</td>\n",
              "      <td>NaN</td>\n",
              "      <td>NaN</td>\n",
              "      <td>NaN</td>\n",
              "      <td>NaN</td>\n",
              "      <td>NaN</td>\n",
              "    </tr>\n",
              "    <tr>\n",
              "      <th>fare</th>\n",
              "      <td>199674</td>\n",
              "      <td>10</td>\n",
              "      <td>Promo</td>\n",
              "      <td>106426</td>\n",
              "      <td>NaT</td>\n",
              "      <td>NaT</td>\n",
              "      <td>NaN</td>\n",
              "      <td>NaN</td>\n",
              "      <td>NaN</td>\n",
              "      <td>NaN</td>\n",
              "      <td>NaN</td>\n",
              "      <td>NaN</td>\n",
              "      <td>NaN</td>\n",
              "    </tr>\n",
              "    <tr>\n",
              "      <th>seats</th>\n",
              "      <td>8418.0</td>\n",
              "      <td>NaN</td>\n",
              "      <td>NaN</td>\n",
              "      <td>NaN</td>\n",
              "      <td>NaT</td>\n",
              "      <td>NaT</td>\n",
              "      <td>220.079116</td>\n",
              "      <td>72.957453</td>\n",
              "      <td>6.0</td>\n",
              "      <td>205.0</td>\n",
              "      <td>238.0</td>\n",
              "      <td>262.0</td>\n",
              "      <td>334.0</td>\n",
              "    </tr>\n",
              "    <tr>\n",
              "      <th>insert_date</th>\n",
              "      <td>199674</td>\n",
              "      <td>164263</td>\n",
              "      <td>2020-09-30 20:00:00</td>\n",
              "      <td>105</td>\n",
              "      <td>2019-04-11 21:49:48</td>\n",
              "      <td>2020-10-07 12:00:00</td>\n",
              "      <td>NaN</td>\n",
              "      <td>NaN</td>\n",
              "      <td>NaN</td>\n",
              "      <td>NaN</td>\n",
              "      <td>NaN</td>\n",
              "      <td>NaN</td>\n",
              "      <td>NaN</td>\n",
              "    </tr>\n",
              "  </tbody>\n",
              "</table>\n",
              "</div>\n",
              "      <button class=\"colab-df-convert\" onclick=\"convertToInteractive('df-c2935a96-fb08-48f1-824e-306572c724a0')\"\n",
              "              title=\"Convert this dataframe to an interactive table.\"\n",
              "              style=\"display:none;\">\n",
              "        \n",
              "  <svg xmlns=\"http://www.w3.org/2000/svg\" height=\"24px\"viewBox=\"0 0 24 24\"\n",
              "       width=\"24px\">\n",
              "    <path d=\"M0 0h24v24H0V0z\" fill=\"none\"/>\n",
              "    <path d=\"M18.56 5.44l.94 2.06.94-2.06 2.06-.94-2.06-.94-.94-2.06-.94 2.06-2.06.94zm-11 1L8.5 8.5l.94-2.06 2.06-.94-2.06-.94L8.5 2.5l-.94 2.06-2.06.94zm10 10l.94 2.06.94-2.06 2.06-.94-2.06-.94-.94-2.06-.94 2.06-2.06.94z\"/><path d=\"M17.41 7.96l-1.37-1.37c-.4-.4-.92-.59-1.43-.59-.52 0-1.04.2-1.43.59L10.3 9.45l-7.72 7.72c-.78.78-.78 2.05 0 2.83L4 21.41c.39.39.9.59 1.41.59.51 0 1.02-.2 1.41-.59l7.78-7.78 2.81-2.81c.8-.78.8-2.07 0-2.86zM5.41 20L4 18.59l7.72-7.72 1.47 1.35L5.41 20z\"/>\n",
              "  </svg>\n",
              "      </button>\n",
              "      \n",
              "  <style>\n",
              "    .colab-df-container {\n",
              "      display:flex;\n",
              "      flex-wrap:wrap;\n",
              "      gap: 12px;\n",
              "    }\n",
              "\n",
              "    .colab-df-convert {\n",
              "      background-color: #E8F0FE;\n",
              "      border: none;\n",
              "      border-radius: 50%;\n",
              "      cursor: pointer;\n",
              "      display: none;\n",
              "      fill: #1967D2;\n",
              "      height: 32px;\n",
              "      padding: 0 0 0 0;\n",
              "      width: 32px;\n",
              "    }\n",
              "\n",
              "    .colab-df-convert:hover {\n",
              "      background-color: #E2EBFA;\n",
              "      box-shadow: 0px 1px 2px rgba(60, 64, 67, 0.3), 0px 1px 3px 1px rgba(60, 64, 67, 0.15);\n",
              "      fill: #174EA6;\n",
              "    }\n",
              "\n",
              "    [theme=dark] .colab-df-convert {\n",
              "      background-color: #3B4455;\n",
              "      fill: #D2E3FC;\n",
              "    }\n",
              "\n",
              "    [theme=dark] .colab-df-convert:hover {\n",
              "      background-color: #434B5C;\n",
              "      box-shadow: 0px 1px 3px 1px rgba(0, 0, 0, 0.15);\n",
              "      filter: drop-shadow(0px 1px 2px rgba(0, 0, 0, 0.3));\n",
              "      fill: #FFFFFF;\n",
              "    }\n",
              "  </style>\n",
              "\n",
              "      <script>\n",
              "        const buttonEl =\n",
              "          document.querySelector('#df-c2935a96-fb08-48f1-824e-306572c724a0 button.colab-df-convert');\n",
              "        buttonEl.style.display =\n",
              "          google.colab.kernel.accessAllowed ? 'block' : 'none';\n",
              "\n",
              "        async function convertToInteractive(key) {\n",
              "          const element = document.querySelector('#df-c2935a96-fb08-48f1-824e-306572c724a0');\n",
              "          const dataTable =\n",
              "            await google.colab.kernel.invokeFunction('convertToInteractive',\n",
              "                                                     [key], {});\n",
              "          if (!dataTable) return;\n",
              "\n",
              "          const docLinkHtml = 'Like what you see? Visit the ' +\n",
              "            '<a target=\"_blank\" href=https://colab.research.google.com/notebooks/data_table.ipynb>data table notebook</a>'\n",
              "            + ' to learn more about interactive tables.';\n",
              "          element.innerHTML = '';\n",
              "          dataTable['output_type'] = 'display_data';\n",
              "          await google.colab.output.renderOutput(dataTable, element);\n",
              "          const docLink = document.createElement('div');\n",
              "          docLink.innerHTML = docLinkHtml;\n",
              "          element.appendChild(docLink);\n",
              "        }\n",
              "      </script>\n",
              "    </div>\n",
              "  </div>\n",
              "  "
            ]
          },
          "metadata": {},
          "execution_count": 92
        }
      ]
    },
    {
      "cell_type": "markdown",
      "source": [
        "## Correct categories"
      ],
      "metadata": {
        "id": "TJW0tlQ0kq8K"
      }
    },
    {
      "cell_type": "markdown",
      "source": [
        "Algunos literales estan mal escritos."
      ],
      "metadata": {
        "id": "jXI2d89PkwWF"
      }
    },
    {
      "cell_type": "code",
      "source": [
        "categories = df.select_dtypes(include='object').columns"
      ],
      "metadata": {
        "id": "G15GdwmNkqZG"
      },
      "execution_count": null,
      "outputs": []
    },
    {
      "cell_type": "code",
      "source": [
        "for i in categories:\n",
        "  print(i)\n",
        "  print(np.sort(X[i].unique()))"
      ],
      "metadata": {
        "colab": {
          "base_uri": "https://localhost:8080/"
        },
        "id": "pTzxaWMXlDpf",
        "outputId": "30744858-ac97-4bde-e433-19c0b8365f47"
      },
      "execution_count": null,
      "outputs": [
        {
          "output_type": "stream",
          "name": "stdout",
          "text": [
            "origin\n",
            "['ALBACETE' 'ALICANTE' 'BARCELONA' 'CADIZ' 'CASTELLON' 'CIUDAD REAL'\n",
            " 'CORDOBA' 'CUENCA' 'GIRONA' 'GRANADA' 'GUADALAJARA' 'HUESCA' 'LEON'\n",
            " 'LLEIDA' 'MADRID' 'MALAGA' 'PALENCIA' 'PONFERRADA' 'SEGOVIA' 'SEVILLA'\n",
            " 'TARRAGONA' 'TOLEDO' 'VALENCIA' 'VALLADOLID' 'ZAMORA' 'ZARAGOZA']\n",
            "destination\n",
            "['ALBACETE' 'ALICANTE' 'BARCELONA' 'CADIZ' 'CASTELLON' 'CIUDAD REAL'\n",
            " 'CORDOBA' 'CUENCA' 'GIRONA' 'GRANADA' 'GUADALAJARA' 'HUESCA' 'LEON'\n",
            " 'LLEIDA' 'MADRID' 'MALAGA' 'PALENCIA' 'PONFERRADA' 'SEGOVIA' 'SEVILLA'\n",
            " 'TARRAGONA' 'TOLEDO' 'VALENCIA' 'VALLADOLID' 'ZAMORA' 'ZARAGOZA']\n",
            "vehicle_type\n",
            "['ALTARIA' 'ALVIA' 'AV CITY' 'AVANT' 'AVANT-AVE' 'AVANT-LD' 'AVANT-MD'\n",
            " 'AVE' 'AVE-AVANT' 'AVE-AVE' 'AVE-LD' 'AVE-MD' 'AVE-TGV' 'AVLO' 'EUROMED'\n",
            " 'INTERCITY' 'LD' 'LD-AVANT' 'LD-AVE' 'LD-MD' 'MD' 'MD-AVANT' 'MD-AVE'\n",
            " 'MD-LD' 'R. EXPRES' 'REG.EXP.' 'REGIONAL' 'TORRE ORO' 'TRENHOTEL']\n",
            "vehicle_class\n",
            "['CAMA G. CLASE' 'CAMA TURISTA' 'PREFERENTE' 'PREFERENTESOLO PLAZA H'\n",
            " 'TURISTA' 'TURISTA - TURISTA PLUS' 'TURISTA CON ENLACE' 'TURISTA PLUS'\n",
            " 'TURISTA PLUS - TURISTA' 'TURISTASOLO PLAZA H']\n",
            "fare\n",
            "['ADULTO IDA' 'BASICA' 'COD.PROMOCIONAL' 'DOBLE FAMILIAR-FLEXIBLE'\n",
            " 'FLEXIBLE' 'INDIVIDUAL-FLEXIBLE' 'MESA' 'PROMO' 'PROMO +' 'YOVOY']\n"
          ]
        }
      ]
    },
    {
      "cell_type": "code",
      "source": [
        "# categorias en mayusculas\n",
        "for i in categories:\n",
        "  X[i] = X[i].str.upper()"
      ],
      "metadata": {
        "id": "jyR0n3bJll8a"
      },
      "execution_count": null,
      "outputs": []
    },
    {
      "cell_type": "code",
      "source": [
        "# eliminamos acentos\n",
        "for i in categories:\n",
        "  X[i] = X[i].str.normalize('NFKD').str.encode('ascii', errors='ignore').str.decode('utf-8')"
      ],
      "metadata": {
        "id": "ruYuLvxbl4CR"
      },
      "execution_count": null,
      "outputs": []
    },
    {
      "cell_type": "code",
      "source": [
        "# CASTELLO -> CASTELLON\n",
        "for i in ['destination','origin']:\n",
        "  X[i] = X[i].replace('CASTELLO','CASTELLON')"
      ],
      "metadata": {
        "id": "V69cNUx5lVcq"
      },
      "execution_count": null,
      "outputs": []
    },
    {
      "cell_type": "markdown",
      "source": [
        "## Feature Engineering (!)"
      ],
      "metadata": {
        "id": "cJB7E5YJYSfz"
      }
    },
    {
      "cell_type": "code",
      "source": [
        "# Variables de las fechas\n",
        "for i in ('departure','insert_date'):\n",
        "  X['weekday_'+i] = X[i].dt.day_name()\n",
        "  X['weekday_n_'+i] = X[i].dt.day_of_week # 0 -Lunes, 6-Domingo\n",
        "  X['month_'+i] = X[i].dt.month\n",
        "  X['hour_'+i] = X[i].dt.hour"
      ],
      "metadata": {
        "id": "8IdmGmpBJ-O1"
      },
      "execution_count": null,
      "outputs": []
    },
    {
      "cell_type": "code",
      "source": [
        "# Tiempo entre la consulta del precio y el viaje\n",
        "timedelta = X.departure - X.insert_date\n",
        "X['days_before_trip'] = timedelta.dt.days"
      ],
      "metadata": {
        "id": "vw6_BG2lK5Jr"
      },
      "execution_count": null,
      "outputs": []
    },
    {
      "cell_type": "code",
      "source": [
        "festivos = pd.read_csv('/content/drive/MyDrive/Colab Notebooks/SUPERVISED ML/DSC - Regresion (III)/dias_festivos.csv')"
      ],
      "metadata": {
        "id": "a7It2m-Qa47s"
      },
      "execution_count": null,
      "outputs": []
    },
    {
      "cell_type": "code",
      "source": [
        "festivos = pd.to_datetime(festivos.values.flatten(), format='%d-%m-%Y')"
      ],
      "metadata": {
        "id": "61bHrzpyavPK"
      },
      "execution_count": null,
      "outputs": []
    },
    {
      "cell_type": "code",
      "source": [
        "X['ind_weekend'] = X.weekday_n_departure.isin([5,6])"
      ],
      "metadata": {
        "id": "QHmS68iYTVdZ"
      },
      "execution_count": null,
      "outputs": []
    },
    {
      "cell_type": "code",
      "source": [
        "X['ind_holidays'] = X.departure.dt.date.isin(festivos.date)"
      ],
      "metadata": {
        "id": "0ueFY1LUOQhC"
      },
      "execution_count": null,
      "outputs": []
    },
    {
      "cell_type": "code",
      "source": [
        "X.columns"
      ],
      "metadata": {
        "colab": {
          "base_uri": "https://localhost:8080/"
        },
        "id": "gK7mRl7MP9En",
        "outputId": "6c8158d0-16fb-423f-80c7-dc2f31520588"
      },
      "execution_count": null,
      "outputs": [
        {
          "output_type": "execute_result",
          "data": {
            "text/plain": [
              "Index(['origin', 'destination', 'departure', 'arrival', 'duration',\n",
              "       'vehicle_type', 'vehicle_class', 'fare', 'seats', 'insert_date',\n",
              "       'weekday_departure', 'weekday_n_departure', 'month_departure',\n",
              "       'hour_departure', 'weekday_insert_date', 'weekday_n_insert_date',\n",
              "       'month_insert_date', 'hour_insert_date', 'days_before_trip',\n",
              "       'ind_weekend', 'ind_holidays'],\n",
              "      dtype='object')"
            ]
          },
          "metadata": {},
          "execution_count": 123
        }
      ]
    },
    {
      "cell_type": "code",
      "source": [
        "X.ind_holidays = X.ind_holidays.astype('int8')\n",
        "X.ind_weekend = X.ind_weekend.astype('int8')"
      ],
      "metadata": {
        "id": "SGbwNIbYPI-_"
      },
      "execution_count": null,
      "outputs": []
    },
    {
      "cell_type": "code",
      "source": [
        "X.origin.value_counts().index.values"
      ],
      "metadata": {
        "colab": {
          "base_uri": "https://localhost:8080/"
        },
        "id": "d-RaVMEGQkGZ",
        "outputId": "19bd3b9d-1095-4594-e7cf-6d3bbb7d08bc"
      },
      "execution_count": null,
      "outputs": [
        {
          "output_type": "execute_result",
          "data": {
            "text/plain": [
              "array(['MADRID', 'BARCELONA', 'VALENCIA', 'SEVILLA', 'CORDOBA',\n",
              "       'ZARAGOZA', 'PONFERRADA', 'VALLADOLID', 'MALAGA', 'ALBACETE',\n",
              "       'TARRAGONA', 'LLEIDA', 'GIRONA', 'LEON', 'ALICANTE', 'CASTELLON',\n",
              "       'GRANADA', 'SEGOVIA', 'CIUDAD REAL', 'PALENCIA', 'CUENCA',\n",
              "       'TOLEDO', 'GUADALAJARA', 'CADIZ', 'ZAMORA', 'HUESCA'], dtype=object)"
            ]
          },
          "metadata": {},
          "execution_count": 125
        }
      ]
    },
    {
      "cell_type": "code",
      "source": [
        "# Hipotesis: los precios de las lineas de tren ida y vuelta son parecidos\n",
        "# Vamos a ponerle nombre a las lineas de tren\n",
        "# Definimos que el nombre de la linea será CIUDAD CON MAS VIAJES DE ORIGEN - CIUDAD CON MENOS VIAJES DE ORIGEN\n",
        "\n",
        "city_order = X.origin.value_counts().index.values\n",
        "\n",
        "def train_line(origin, destination, city_list):\n",
        "  if np.where(city_order == origin) < np.where(city_order == destination):\n",
        "    return origin+'-'+destination\n",
        "  else:\n",
        "    return destination+'-'+origin\n",
        "\n",
        "# Aplicamos la funcion linea a linea en el dataframe\n",
        "X['train_line'] = X.apply(lambda x: train_line(x['origin'], x['destination'], city_order), axis=1)"
      ],
      "metadata": {
        "id": "gpXGlgsueP1O"
      },
      "execution_count": null,
      "outputs": []
    },
    {
      "cell_type": "code",
      "source": [
        "X.head(3)"
      ],
      "metadata": {
        "colab": {
          "base_uri": "https://localhost:8080/",
          "height": 341
        },
        "id": "PK0plVxWhDm1",
        "outputId": "b9202947-4600-4760-cfd4-77ec22defa99"
      },
      "execution_count": null,
      "outputs": [
        {
          "output_type": "execute_result",
          "data": {
            "text/plain": [
              "      origin destination           departure             arrival  duration  \\\n",
              "0     MADRID    VALENCIA 2019-08-29 16:55:00 2019-08-29 21:58:00      5.05   \n",
              "1  BARCELONA      MADRID 2019-04-30 12:50:00 2019-04-30 15:45:00      2.92   \n",
              "2     MADRID      MALAGA 2020-04-26 15:35:00 2020-04-26 18:06:00      2.52   \n",
              "\n",
              "  vehicle_type       vehicle_class   fare  seats         insert_date  ...  \\\n",
              "0       AVE-LD  TURISTA CON ENLACE  PROMO    NaN 2019-08-16 12:02:16  ...   \n",
              "1      AVE-TGV             TURISTA  PROMO    NaN 2019-04-18 22:20:08  ...   \n",
              "2          AVE          PREFERENTE  PROMO    NaN 2020-03-01 03:18:13  ...   \n",
              "\n",
              "  month_departure  hour_departure  weekday_insert_date  weekday_n_insert_date  \\\n",
              "0               8              16               Friday                      4   \n",
              "1               4              12             Thursday                      3   \n",
              "2               4              15               Sunday                      6   \n",
              "\n",
              "  month_insert_date  hour_insert_date  days_before_trip  ind_weekend  \\\n",
              "0                 8                12                13            0   \n",
              "1                 4                22                11            0   \n",
              "2                 3                 3                56            1   \n",
              "\n",
              "   ind_holidays        train_line  \n",
              "0             0   MADRID-VALENCIA  \n",
              "1             0  MADRID-BARCELONA  \n",
              "2             0     MADRID-MALAGA  \n",
              "\n",
              "[3 rows x 22 columns]"
            ],
            "text/html": [
              "\n",
              "  <div id=\"df-ce9e7633-fee1-4b2d-964d-3dadead1b141\">\n",
              "    <div class=\"colab-df-container\">\n",
              "      <div>\n",
              "<style scoped>\n",
              "    .dataframe tbody tr th:only-of-type {\n",
              "        vertical-align: middle;\n",
              "    }\n",
              "\n",
              "    .dataframe tbody tr th {\n",
              "        vertical-align: top;\n",
              "    }\n",
              "\n",
              "    .dataframe thead th {\n",
              "        text-align: right;\n",
              "    }\n",
              "</style>\n",
              "<table border=\"1\" class=\"dataframe\">\n",
              "  <thead>\n",
              "    <tr style=\"text-align: right;\">\n",
              "      <th></th>\n",
              "      <th>origin</th>\n",
              "      <th>destination</th>\n",
              "      <th>departure</th>\n",
              "      <th>arrival</th>\n",
              "      <th>duration</th>\n",
              "      <th>vehicle_type</th>\n",
              "      <th>vehicle_class</th>\n",
              "      <th>fare</th>\n",
              "      <th>seats</th>\n",
              "      <th>insert_date</th>\n",
              "      <th>...</th>\n",
              "      <th>month_departure</th>\n",
              "      <th>hour_departure</th>\n",
              "      <th>weekday_insert_date</th>\n",
              "      <th>weekday_n_insert_date</th>\n",
              "      <th>month_insert_date</th>\n",
              "      <th>hour_insert_date</th>\n",
              "      <th>days_before_trip</th>\n",
              "      <th>ind_weekend</th>\n",
              "      <th>ind_holidays</th>\n",
              "      <th>train_line</th>\n",
              "    </tr>\n",
              "  </thead>\n",
              "  <tbody>\n",
              "    <tr>\n",
              "      <th>0</th>\n",
              "      <td>MADRID</td>\n",
              "      <td>VALENCIA</td>\n",
              "      <td>2019-08-29 16:55:00</td>\n",
              "      <td>2019-08-29 21:58:00</td>\n",
              "      <td>5.05</td>\n",
              "      <td>AVE-LD</td>\n",
              "      <td>TURISTA CON ENLACE</td>\n",
              "      <td>PROMO</td>\n",
              "      <td>NaN</td>\n",
              "      <td>2019-08-16 12:02:16</td>\n",
              "      <td>...</td>\n",
              "      <td>8</td>\n",
              "      <td>16</td>\n",
              "      <td>Friday</td>\n",
              "      <td>4</td>\n",
              "      <td>8</td>\n",
              "      <td>12</td>\n",
              "      <td>13</td>\n",
              "      <td>0</td>\n",
              "      <td>0</td>\n",
              "      <td>MADRID-VALENCIA</td>\n",
              "    </tr>\n",
              "    <tr>\n",
              "      <th>1</th>\n",
              "      <td>BARCELONA</td>\n",
              "      <td>MADRID</td>\n",
              "      <td>2019-04-30 12:50:00</td>\n",
              "      <td>2019-04-30 15:45:00</td>\n",
              "      <td>2.92</td>\n",
              "      <td>AVE-TGV</td>\n",
              "      <td>TURISTA</td>\n",
              "      <td>PROMO</td>\n",
              "      <td>NaN</td>\n",
              "      <td>2019-04-18 22:20:08</td>\n",
              "      <td>...</td>\n",
              "      <td>4</td>\n",
              "      <td>12</td>\n",
              "      <td>Thursday</td>\n",
              "      <td>3</td>\n",
              "      <td>4</td>\n",
              "      <td>22</td>\n",
              "      <td>11</td>\n",
              "      <td>0</td>\n",
              "      <td>0</td>\n",
              "      <td>MADRID-BARCELONA</td>\n",
              "    </tr>\n",
              "    <tr>\n",
              "      <th>2</th>\n",
              "      <td>MADRID</td>\n",
              "      <td>MALAGA</td>\n",
              "      <td>2020-04-26 15:35:00</td>\n",
              "      <td>2020-04-26 18:06:00</td>\n",
              "      <td>2.52</td>\n",
              "      <td>AVE</td>\n",
              "      <td>PREFERENTE</td>\n",
              "      <td>PROMO</td>\n",
              "      <td>NaN</td>\n",
              "      <td>2020-03-01 03:18:13</td>\n",
              "      <td>...</td>\n",
              "      <td>4</td>\n",
              "      <td>15</td>\n",
              "      <td>Sunday</td>\n",
              "      <td>6</td>\n",
              "      <td>3</td>\n",
              "      <td>3</td>\n",
              "      <td>56</td>\n",
              "      <td>1</td>\n",
              "      <td>0</td>\n",
              "      <td>MADRID-MALAGA</td>\n",
              "    </tr>\n",
              "  </tbody>\n",
              "</table>\n",
              "<p>3 rows × 22 columns</p>\n",
              "</div>\n",
              "      <button class=\"colab-df-convert\" onclick=\"convertToInteractive('df-ce9e7633-fee1-4b2d-964d-3dadead1b141')\"\n",
              "              title=\"Convert this dataframe to an interactive table.\"\n",
              "              style=\"display:none;\">\n",
              "        \n",
              "  <svg xmlns=\"http://www.w3.org/2000/svg\" height=\"24px\"viewBox=\"0 0 24 24\"\n",
              "       width=\"24px\">\n",
              "    <path d=\"M0 0h24v24H0V0z\" fill=\"none\"/>\n",
              "    <path d=\"M18.56 5.44l.94 2.06.94-2.06 2.06-.94-2.06-.94-.94-2.06-.94 2.06-2.06.94zm-11 1L8.5 8.5l.94-2.06 2.06-.94-2.06-.94L8.5 2.5l-.94 2.06-2.06.94zm10 10l.94 2.06.94-2.06 2.06-.94-2.06-.94-.94-2.06-.94 2.06-2.06.94z\"/><path d=\"M17.41 7.96l-1.37-1.37c-.4-.4-.92-.59-1.43-.59-.52 0-1.04.2-1.43.59L10.3 9.45l-7.72 7.72c-.78.78-.78 2.05 0 2.83L4 21.41c.39.39.9.59 1.41.59.51 0 1.02-.2 1.41-.59l7.78-7.78 2.81-2.81c.8-.78.8-2.07 0-2.86zM5.41 20L4 18.59l7.72-7.72 1.47 1.35L5.41 20z\"/>\n",
              "  </svg>\n",
              "      </button>\n",
              "      \n",
              "  <style>\n",
              "    .colab-df-container {\n",
              "      display:flex;\n",
              "      flex-wrap:wrap;\n",
              "      gap: 12px;\n",
              "    }\n",
              "\n",
              "    .colab-df-convert {\n",
              "      background-color: #E8F0FE;\n",
              "      border: none;\n",
              "      border-radius: 50%;\n",
              "      cursor: pointer;\n",
              "      display: none;\n",
              "      fill: #1967D2;\n",
              "      height: 32px;\n",
              "      padding: 0 0 0 0;\n",
              "      width: 32px;\n",
              "    }\n",
              "\n",
              "    .colab-df-convert:hover {\n",
              "      background-color: #E2EBFA;\n",
              "      box-shadow: 0px 1px 2px rgba(60, 64, 67, 0.3), 0px 1px 3px 1px rgba(60, 64, 67, 0.15);\n",
              "      fill: #174EA6;\n",
              "    }\n",
              "\n",
              "    [theme=dark] .colab-df-convert {\n",
              "      background-color: #3B4455;\n",
              "      fill: #D2E3FC;\n",
              "    }\n",
              "\n",
              "    [theme=dark] .colab-df-convert:hover {\n",
              "      background-color: #434B5C;\n",
              "      box-shadow: 0px 1px 3px 1px rgba(0, 0, 0, 0.15);\n",
              "      filter: drop-shadow(0px 1px 2px rgba(0, 0, 0, 0.3));\n",
              "      fill: #FFFFFF;\n",
              "    }\n",
              "  </style>\n",
              "\n",
              "      <script>\n",
              "        const buttonEl =\n",
              "          document.querySelector('#df-ce9e7633-fee1-4b2d-964d-3dadead1b141 button.colab-df-convert');\n",
              "        buttonEl.style.display =\n",
              "          google.colab.kernel.accessAllowed ? 'block' : 'none';\n",
              "\n",
              "        async function convertToInteractive(key) {\n",
              "          const element = document.querySelector('#df-ce9e7633-fee1-4b2d-964d-3dadead1b141');\n",
              "          const dataTable =\n",
              "            await google.colab.kernel.invokeFunction('convertToInteractive',\n",
              "                                                     [key], {});\n",
              "          if (!dataTable) return;\n",
              "\n",
              "          const docLinkHtml = 'Like what you see? Visit the ' +\n",
              "            '<a target=\"_blank\" href=https://colab.research.google.com/notebooks/data_table.ipynb>data table notebook</a>'\n",
              "            + ' to learn more about interactive tables.';\n",
              "          element.innerHTML = '';\n",
              "          dataTable['output_type'] = 'display_data';\n",
              "          await google.colab.output.renderOutput(dataTable, element);\n",
              "          const docLink = document.createElement('div');\n",
              "          docLink.innerHTML = docLinkHtml;\n",
              "          element.appendChild(docLink);\n",
              "        }\n",
              "      </script>\n",
              "    </div>\n",
              "  </div>\n",
              "  "
            ]
          },
          "metadata": {},
          "execution_count": 127
        }
      ]
    },
    {
      "cell_type": "code",
      "source": [
        "X.columns"
      ],
      "metadata": {
        "colab": {
          "base_uri": "https://localhost:8080/"
        },
        "id": "j4RI6Ca2RTiZ",
        "outputId": "7a0afd95-3be2-47b6-91c7-5d390fef37bf"
      },
      "execution_count": null,
      "outputs": [
        {
          "output_type": "execute_result",
          "data": {
            "text/plain": [
              "Index(['origin', 'destination', 'departure', 'arrival', 'duration',\n",
              "       'vehicle_type', 'vehicle_class', 'fare', 'seats', 'insert_date',\n",
              "       'weekday_departure', 'weekday_n_departure', 'month_departure',\n",
              "       'hour_departure', 'weekday_insert_date', 'weekday_n_insert_date',\n",
              "       'month_insert_date', 'hour_insert_date', 'days_before_trip',\n",
              "       'ind_weekend', 'ind_holidays', 'train_line'],\n",
              "      dtype='object')"
            ]
          },
          "metadata": {},
          "execution_count": 128
        }
      ]
    },
    {
      "cell_type": "code",
      "source": [
        "#Drop de variables que son fechas\n",
        "X.drop(columns=['departure','arrival','insert_date'], inplace=True)"
      ],
      "metadata": {
        "id": "vowfsoz4E9Pw"
      },
      "execution_count": null,
      "outputs": []
    },
    {
      "cell_type": "markdown",
      "metadata": {
        "id": "vAMtt3W4FSgh"
      },
      "source": [
        "## Nulls"
      ]
    },
    {
      "cell_type": "code",
      "execution_count": null,
      "metadata": {
        "id": "mXzkAfD2FSgi",
        "colab": {
          "base_uri": "https://localhost:8080/"
        },
        "outputId": "78629bbf-9622-4be0-dfa5-67237c9cb315"
      },
      "outputs": [
        {
          "output_type": "execute_result",
          "data": {
            "text/plain": [
              "origin                    0.000000\n",
              "destination               0.000000\n",
              "duration                  0.000000\n",
              "vehicle_type              0.000000\n",
              "vehicle_class             0.000000\n",
              "fare                      0.000000\n",
              "seats                    95.784128\n",
              "weekday_departure         0.000000\n",
              "weekday_n_departure       0.000000\n",
              "month_departure           0.000000\n",
              "hour_departure            0.000000\n",
              "weekday_insert_date       0.000000\n",
              "weekday_n_insert_date     0.000000\n",
              "month_insert_date         0.000000\n",
              "hour_insert_date          0.000000\n",
              "days_before_trip          0.000000\n",
              "ind_weekend               0.000000\n",
              "ind_holidays              0.000000\n",
              "train_line                0.000000\n",
              "dtype: float64"
            ]
          },
          "metadata": {},
          "execution_count": 130
        }
      ],
      "source": [
        "100*X.isna().sum()/X.shape[0]"
      ]
    },
    {
      "cell_type": "code",
      "source": [
        "X.drop(columns='seats',inplace=True)"
      ],
      "metadata": {
        "id": "jK7sgTz6J9W-"
      },
      "execution_count": null,
      "outputs": []
    },
    {
      "cell_type": "markdown",
      "metadata": {
        "id": "F1RxbMQFFSgj"
      },
      "source": [
        "## One-hot-encoding"
      ]
    },
    {
      "cell_type": "code",
      "execution_count": null,
      "metadata": {
        "id": "rl7cEu2DFSgj"
      },
      "outputs": [],
      "source": [
        "categorical = X.select_dtypes(include='object').columns"
      ]
    },
    {
      "cell_type": "code",
      "source": [
        "X[categorical].nunique()"
      ],
      "metadata": {
        "colab": {
          "base_uri": "https://localhost:8080/"
        },
        "id": "7Nlx2TdYKi6F",
        "outputId": "d7489e8f-a15e-4e82-cdb3-3bc3e75e569e"
      },
      "execution_count": null,
      "outputs": [
        {
          "output_type": "execute_result",
          "data": {
            "text/plain": [
              "origin                 26\n",
              "destination            26\n",
              "vehicle_type           29\n",
              "vehicle_class          10\n",
              "fare                   10\n",
              "weekday_departure       7\n",
              "weekday_insert_date     7\n",
              "train_line             27\n",
              "dtype: int64"
            ]
          },
          "metadata": {},
          "execution_count": 133
        }
      ]
    },
    {
      "cell_type": "code",
      "source": [
        "for i in categorical:\n",
        "  print(i)\n",
        "  print('Unique vanlues:', X[i].nunique())\n",
        "  print(100*X[i].value_counts()/X.shape[0])\n",
        "  print()"
      ],
      "metadata": {
        "colab": {
          "base_uri": "https://localhost:8080/"
        },
        "id": "Hm-vV-JcTq8s",
        "outputId": "26459766-0364-4f8a-f863-1167b28df597"
      },
      "execution_count": null,
      "outputs": [
        {
          "output_type": "stream",
          "name": "stdout",
          "text": [
            "origin\n",
            "Unique vanlues: 26\n",
            "MADRID         49.211214\n",
            "BARCELONA      12.464818\n",
            "VALENCIA        9.891623\n",
            "SEVILLA         9.831025\n",
            "CORDOBA         3.190200\n",
            "ZARAGOZA        2.748480\n",
            "PONFERRADA      2.308262\n",
            "VALLADOLID      2.179052\n",
            "MALAGA          1.212476\n",
            "ALBACETE        1.123832\n",
            "TARRAGONA       1.120827\n",
            "LLEIDA          0.886946\n",
            "GIRONA          0.871921\n",
            "LEON            0.726184\n",
            "ALICANTE        0.686619\n",
            "CASTELLON       0.546891\n",
            "GRANADA         0.370103\n",
            "SEGOVIA         0.128710\n",
            "CIUDAD REAL     0.115188\n",
            "PALENCIA        0.095656\n",
            "CUENCA          0.077627\n",
            "TOLEDO          0.064104\n",
            "GUADALAJARA     0.058596\n",
            "CADIZ           0.039064\n",
            "ZAMORA          0.028046\n",
            "HUESCA          0.022537\n",
            "Name: origin, dtype: float64\n",
            "\n",
            "destination\n",
            "Unique vanlues: 26\n",
            "MADRID         49.824213\n",
            "BARCELONA      12.970642\n",
            "VALENCIA       10.335847\n",
            "SEVILLA         9.820007\n",
            "CORDOBA         3.050472\n",
            "ZARAGOZA        2.788045\n",
            "VALLADOLID      2.144996\n",
            "PONFERRADA      1.541012\n",
            "MALAGA          1.219488\n",
            "ALBACETE        1.117321\n",
            "TARRAGONA       1.011649\n",
            "GIRONA          0.748720\n",
            "ALICANTE        0.712161\n",
            "LLEIDA          0.686118\n",
            "CASTELLON       0.569929\n",
            "LEON            0.513337\n",
            "GRANADA         0.371105\n",
            "SEGOVIA         0.114186\n",
            "CIUDAD REAL     0.109679\n",
            "PALENCIA        0.081633\n",
            "CUENCA          0.074622\n",
            "TOLEDO          0.064605\n",
            "GUADALAJARA     0.052586\n",
            "CADIZ           0.036059\n",
            "ZAMORA          0.027545\n",
            "HUESCA          0.014023\n",
            "Name: destination, dtype: float64\n",
            "\n",
            "vehicle_type\n",
            "Unique vanlues: 29\n",
            "AVE          66.621092\n",
            "ALVIA         6.816611\n",
            "REGIONAL      3.635426\n",
            "INTERCITY     3.384517\n",
            "AV CITY       2.343820\n",
            "AVANT         2.168034\n",
            "MD            2.147000\n",
            "AVE-LD        1.953685\n",
            "MD-LD         1.623146\n",
            "AVE-TGV       1.166902\n",
            "LD-AVE        1.015155\n",
            "LD            0.927011\n",
            "TRENHOTEL     0.864910\n",
            "AVE-MD        0.861905\n",
            "MD-AVE        0.798802\n",
            "REG.EXP.      0.733696\n",
            "LD-MD         0.669091\n",
            "R. EXPRES     0.599978\n",
            "AVANT-AVE     0.399651\n",
            "ALTARIA       0.360087\n",
            "AVLO          0.323527\n",
            "EUROMED       0.188808\n",
            "AVE-AVANT     0.180294\n",
            "LD-AVANT      0.068111\n",
            "TORRE ORO     0.042069\n",
            "MD-AVANT      0.037561\n",
            "AVANT-LD      0.026042\n",
            "AVE-AVE       0.023038\n",
            "AVANT-MD      0.020033\n",
            "Name: vehicle_type, dtype: float64\n",
            "\n",
            "vehicle_class\n",
            "Unique vanlues: 10\n",
            "TURISTA                   77.869928\n",
            "TURISTA CON ENLACE         9.061270\n",
            "PREFERENTE                 7.080040\n",
            "TURISTA PLUS               5.585104\n",
            "TURISTASOLO PLAZA H        0.313511\n",
            "PREFERENTESOLO PLAZA H     0.040065\n",
            "CAMA TURISTA               0.037060\n",
            "TURISTA PLUS - TURISTA     0.006511\n",
            "TURISTA - TURISTA PLUS     0.004507\n",
            "CAMA G. CLASE              0.002003\n",
            "Name: vehicle_class, dtype: float64\n",
            "\n",
            "fare\n",
            "Unique vanlues: 10\n",
            "PROMO                      53.299879\n",
            "FLEXIBLE                   28.136362\n",
            "ADULTO IDA                  8.815369\n",
            "PROMO +                     8.560954\n",
            "YOVOY                       0.837866\n",
            "BASICA                      0.323527\n",
            "COD.PROMOCIONAL             0.022537\n",
            "MESA                        0.001502\n",
            "INDIVIDUAL-FLEXIBLE         0.001002\n",
            "DOBLE FAMILIAR-FLEXIBLE     0.001002\n",
            "Name: fare, dtype: float64\n",
            "\n",
            "weekday_departure\n",
            "Unique vanlues: 7\n",
            "Thursday     15.520799\n",
            "Monday       15.168224\n",
            "Tuesday      15.139177\n",
            "Wednesday    15.134670\n",
            "Friday       14.759057\n",
            "Sunday       13.094344\n",
            "Saturday     11.183729\n",
            "Name: weekday_departure, dtype: float64\n",
            "\n",
            "weekday_insert_date\n",
            "Unique vanlues: 7\n",
            "Saturday     16.030129\n",
            "Friday       15.047527\n",
            "Thursday     14.697958\n",
            "Wednesday    14.546210\n",
            "Tuesday      13.639232\n",
            "Sunday       13.252602\n",
            "Monday       12.786342\n",
            "Name: weekday_insert_date, dtype: float64\n",
            "\n",
            "train_line\n",
            "Unique vanlues: 27\n",
            "MADRID-BARCELONA      24.470888\n",
            "MADRID-VALENCIA       19.870389\n",
            "MADRID-SEVILLA        19.651031\n",
            "MADRID-CORDOBA         6.240672\n",
            "MADRID-ZARAGOZA        4.929034\n",
            "MADRID-VALLADOLID      4.324048\n",
            "MADRID-PONFERRADA      3.849274\n",
            "MADRID-MALAGA          2.431964\n",
            "MADRID-ALBACETE        2.241153\n",
            "MADRID-TARRAGONA       2.132476\n",
            "MADRID-GIRONA          1.620642\n",
            "MADRID-LLEIDA          1.573064\n",
            "MADRID-ALICANTE        1.398780\n",
            "MADRID-LEON            1.239520\n",
            "MADRID-CASTELLON       1.116820\n",
            "MADRID-GRANADA         0.741208\n",
            "BARCELONA-ZARAGOZA     0.607490\n",
            "BARCELONA-VALENCIA     0.357082\n",
            "MADRID-SEGOVIA         0.242896\n",
            "MADRID-CIUDAD REAL     0.224867\n",
            "MADRID-PALENCIA        0.177289\n",
            "MADRID-CUENCA          0.152248\n",
            "MADRID-TOLEDO          0.128710\n",
            "MADRID-GUADALAJARA     0.111181\n",
            "MADRID-CADIZ           0.075122\n",
            "MADRID-ZAMORA          0.055591\n",
            "MADRID-HUESCA          0.036560\n",
            "Name: train_line, dtype: float64\n",
            "\n"
          ]
        }
      ]
    },
    {
      "cell_type": "code",
      "source": [
        "# Definimos como residual todo valor con una frecuencia por debajo del 5%\n",
        "# min_weight = 0.05\n",
        "# for i in categorical:\n",
        "#   count = X[i].value_counts() / X.shape[0]\n",
        "#   most_frequent = count[count>0.05].index.to_list()\n",
        "#   X[i] = X[i].apply(lambda x: x if x in most_frequent else 'OTRO')"
      ],
      "metadata": {
        "id": "fNeuNto2Lyi-"
      },
      "execution_count": null,
      "outputs": []
    },
    {
      "cell_type": "code",
      "source": [
        "X = pd.get_dummies(data=X,\n",
        "                  columns=categorical,\n",
        "                  dtype=\"int8\")"
      ],
      "metadata": {
        "id": "XAzk4YcMO5yl"
      },
      "execution_count": null,
      "outputs": []
    },
    {
      "cell_type": "code",
      "source": [
        "X.head(3)"
      ],
      "metadata": {
        "colab": {
          "base_uri": "https://localhost:8080/",
          "height": 254
        },
        "id": "XMFT7_45OnQV",
        "outputId": "aad7460e-a6b5-4083-a563-3f2d6427b26f"
      },
      "execution_count": null,
      "outputs": [
        {
          "output_type": "execute_result",
          "data": {
            "text/plain": [
              "   duration  weekday_n_departure  month_departure  hour_departure  \\\n",
              "0      5.05                    3                8              16   \n",
              "1      2.92                    1                4              12   \n",
              "2      2.52                    6                4              15   \n",
              "\n",
              "   weekday_n_insert_date  month_insert_date  hour_insert_date  \\\n",
              "0                      4                  8                12   \n",
              "1                      3                  4                22   \n",
              "2                      6                  3                 3   \n",
              "\n",
              "   days_before_trip  ind_weekend  ind_holidays  ...  \\\n",
              "0                13            0             0  ...   \n",
              "1                11            0             0  ...   \n",
              "2                56            1             0  ...   \n",
              "\n",
              "   train_line_MADRID-PALENCIA  train_line_MADRID-PONFERRADA  \\\n",
              "0                           0                             0   \n",
              "1                           0                             0   \n",
              "2                           0                             0   \n",
              "\n",
              "   train_line_MADRID-SEGOVIA  train_line_MADRID-SEVILLA  \\\n",
              "0                          0                          0   \n",
              "1                          0                          0   \n",
              "2                          0                          0   \n",
              "\n",
              "   train_line_MADRID-TARRAGONA  train_line_MADRID-TOLEDO  \\\n",
              "0                            0                         0   \n",
              "1                            0                         0   \n",
              "2                            0                         0   \n",
              "\n",
              "   train_line_MADRID-VALENCIA  train_line_MADRID-VALLADOLID  \\\n",
              "0                           1                             0   \n",
              "1                           0                             0   \n",
              "2                           0                             0   \n",
              "\n",
              "   train_line_MADRID-ZAMORA  train_line_MADRID-ZARAGOZA  \n",
              "0                         0                           0  \n",
              "1                         0                           0  \n",
              "2                         0                           0  \n",
              "\n",
              "[3 rows x 152 columns]"
            ],
            "text/html": [
              "\n",
              "  <div id=\"df-9401628a-3e3a-4b49-b0ea-cf7fcff7e623\">\n",
              "    <div class=\"colab-df-container\">\n",
              "      <div>\n",
              "<style scoped>\n",
              "    .dataframe tbody tr th:only-of-type {\n",
              "        vertical-align: middle;\n",
              "    }\n",
              "\n",
              "    .dataframe tbody tr th {\n",
              "        vertical-align: top;\n",
              "    }\n",
              "\n",
              "    .dataframe thead th {\n",
              "        text-align: right;\n",
              "    }\n",
              "</style>\n",
              "<table border=\"1\" class=\"dataframe\">\n",
              "  <thead>\n",
              "    <tr style=\"text-align: right;\">\n",
              "      <th></th>\n",
              "      <th>duration</th>\n",
              "      <th>weekday_n_departure</th>\n",
              "      <th>month_departure</th>\n",
              "      <th>hour_departure</th>\n",
              "      <th>weekday_n_insert_date</th>\n",
              "      <th>month_insert_date</th>\n",
              "      <th>hour_insert_date</th>\n",
              "      <th>days_before_trip</th>\n",
              "      <th>ind_weekend</th>\n",
              "      <th>ind_holidays</th>\n",
              "      <th>...</th>\n",
              "      <th>train_line_MADRID-PALENCIA</th>\n",
              "      <th>train_line_MADRID-PONFERRADA</th>\n",
              "      <th>train_line_MADRID-SEGOVIA</th>\n",
              "      <th>train_line_MADRID-SEVILLA</th>\n",
              "      <th>train_line_MADRID-TARRAGONA</th>\n",
              "      <th>train_line_MADRID-TOLEDO</th>\n",
              "      <th>train_line_MADRID-VALENCIA</th>\n",
              "      <th>train_line_MADRID-VALLADOLID</th>\n",
              "      <th>train_line_MADRID-ZAMORA</th>\n",
              "      <th>train_line_MADRID-ZARAGOZA</th>\n",
              "    </tr>\n",
              "  </thead>\n",
              "  <tbody>\n",
              "    <tr>\n",
              "      <th>0</th>\n",
              "      <td>5.05</td>\n",
              "      <td>3</td>\n",
              "      <td>8</td>\n",
              "      <td>16</td>\n",
              "      <td>4</td>\n",
              "      <td>8</td>\n",
              "      <td>12</td>\n",
              "      <td>13</td>\n",
              "      <td>0</td>\n",
              "      <td>0</td>\n",
              "      <td>...</td>\n",
              "      <td>0</td>\n",
              "      <td>0</td>\n",
              "      <td>0</td>\n",
              "      <td>0</td>\n",
              "      <td>0</td>\n",
              "      <td>0</td>\n",
              "      <td>1</td>\n",
              "      <td>0</td>\n",
              "      <td>0</td>\n",
              "      <td>0</td>\n",
              "    </tr>\n",
              "    <tr>\n",
              "      <th>1</th>\n",
              "      <td>2.92</td>\n",
              "      <td>1</td>\n",
              "      <td>4</td>\n",
              "      <td>12</td>\n",
              "      <td>3</td>\n",
              "      <td>4</td>\n",
              "      <td>22</td>\n",
              "      <td>11</td>\n",
              "      <td>0</td>\n",
              "      <td>0</td>\n",
              "      <td>...</td>\n",
              "      <td>0</td>\n",
              "      <td>0</td>\n",
              "      <td>0</td>\n",
              "      <td>0</td>\n",
              "      <td>0</td>\n",
              "      <td>0</td>\n",
              "      <td>0</td>\n",
              "      <td>0</td>\n",
              "      <td>0</td>\n",
              "      <td>0</td>\n",
              "    </tr>\n",
              "    <tr>\n",
              "      <th>2</th>\n",
              "      <td>2.52</td>\n",
              "      <td>6</td>\n",
              "      <td>4</td>\n",
              "      <td>15</td>\n",
              "      <td>6</td>\n",
              "      <td>3</td>\n",
              "      <td>3</td>\n",
              "      <td>56</td>\n",
              "      <td>1</td>\n",
              "      <td>0</td>\n",
              "      <td>...</td>\n",
              "      <td>0</td>\n",
              "      <td>0</td>\n",
              "      <td>0</td>\n",
              "      <td>0</td>\n",
              "      <td>0</td>\n",
              "      <td>0</td>\n",
              "      <td>0</td>\n",
              "      <td>0</td>\n",
              "      <td>0</td>\n",
              "      <td>0</td>\n",
              "    </tr>\n",
              "  </tbody>\n",
              "</table>\n",
              "<p>3 rows × 152 columns</p>\n",
              "</div>\n",
              "      <button class=\"colab-df-convert\" onclick=\"convertToInteractive('df-9401628a-3e3a-4b49-b0ea-cf7fcff7e623')\"\n",
              "              title=\"Convert this dataframe to an interactive table.\"\n",
              "              style=\"display:none;\">\n",
              "        \n",
              "  <svg xmlns=\"http://www.w3.org/2000/svg\" height=\"24px\"viewBox=\"0 0 24 24\"\n",
              "       width=\"24px\">\n",
              "    <path d=\"M0 0h24v24H0V0z\" fill=\"none\"/>\n",
              "    <path d=\"M18.56 5.44l.94 2.06.94-2.06 2.06-.94-2.06-.94-.94-2.06-.94 2.06-2.06.94zm-11 1L8.5 8.5l.94-2.06 2.06-.94-2.06-.94L8.5 2.5l-.94 2.06-2.06.94zm10 10l.94 2.06.94-2.06 2.06-.94-2.06-.94-.94-2.06-.94 2.06-2.06.94z\"/><path d=\"M17.41 7.96l-1.37-1.37c-.4-.4-.92-.59-1.43-.59-.52 0-1.04.2-1.43.59L10.3 9.45l-7.72 7.72c-.78.78-.78 2.05 0 2.83L4 21.41c.39.39.9.59 1.41.59.51 0 1.02-.2 1.41-.59l7.78-7.78 2.81-2.81c.8-.78.8-2.07 0-2.86zM5.41 20L4 18.59l7.72-7.72 1.47 1.35L5.41 20z\"/>\n",
              "  </svg>\n",
              "      </button>\n",
              "      \n",
              "  <style>\n",
              "    .colab-df-container {\n",
              "      display:flex;\n",
              "      flex-wrap:wrap;\n",
              "      gap: 12px;\n",
              "    }\n",
              "\n",
              "    .colab-df-convert {\n",
              "      background-color: #E8F0FE;\n",
              "      border: none;\n",
              "      border-radius: 50%;\n",
              "      cursor: pointer;\n",
              "      display: none;\n",
              "      fill: #1967D2;\n",
              "      height: 32px;\n",
              "      padding: 0 0 0 0;\n",
              "      width: 32px;\n",
              "    }\n",
              "\n",
              "    .colab-df-convert:hover {\n",
              "      background-color: #E2EBFA;\n",
              "      box-shadow: 0px 1px 2px rgba(60, 64, 67, 0.3), 0px 1px 3px 1px rgba(60, 64, 67, 0.15);\n",
              "      fill: #174EA6;\n",
              "    }\n",
              "\n",
              "    [theme=dark] .colab-df-convert {\n",
              "      background-color: #3B4455;\n",
              "      fill: #D2E3FC;\n",
              "    }\n",
              "\n",
              "    [theme=dark] .colab-df-convert:hover {\n",
              "      background-color: #434B5C;\n",
              "      box-shadow: 0px 1px 3px 1px rgba(0, 0, 0, 0.15);\n",
              "      filter: drop-shadow(0px 1px 2px rgba(0, 0, 0, 0.3));\n",
              "      fill: #FFFFFF;\n",
              "    }\n",
              "  </style>\n",
              "\n",
              "      <script>\n",
              "        const buttonEl =\n",
              "          document.querySelector('#df-9401628a-3e3a-4b49-b0ea-cf7fcff7e623 button.colab-df-convert');\n",
              "        buttonEl.style.display =\n",
              "          google.colab.kernel.accessAllowed ? 'block' : 'none';\n",
              "\n",
              "        async function convertToInteractive(key) {\n",
              "          const element = document.querySelector('#df-9401628a-3e3a-4b49-b0ea-cf7fcff7e623');\n",
              "          const dataTable =\n",
              "            await google.colab.kernel.invokeFunction('convertToInteractive',\n",
              "                                                     [key], {});\n",
              "          if (!dataTable) return;\n",
              "\n",
              "          const docLinkHtml = 'Like what you see? Visit the ' +\n",
              "            '<a target=\"_blank\" href=https://colab.research.google.com/notebooks/data_table.ipynb>data table notebook</a>'\n",
              "            + ' to learn more about interactive tables.';\n",
              "          element.innerHTML = '';\n",
              "          dataTable['output_type'] = 'display_data';\n",
              "          await google.colab.output.renderOutput(dataTable, element);\n",
              "          const docLink = document.createElement('div');\n",
              "          docLink.innerHTML = docLinkHtml;\n",
              "          element.appendChild(docLink);\n",
              "        }\n",
              "      </script>\n",
              "    </div>\n",
              "  </div>\n",
              "  "
            ]
          },
          "metadata": {},
          "execution_count": 136
        }
      ]
    },
    {
      "cell_type": "code",
      "source": [
        "X.shape"
      ],
      "metadata": {
        "colab": {
          "base_uri": "https://localhost:8080/"
        },
        "id": "BNDzLqLfhtms",
        "outputId": "7dcb49eb-4a76-4106-e7af-c0b49d12a136"
      },
      "execution_count": null,
      "outputs": [
        {
          "output_type": "execute_result",
          "data": {
            "text/plain": [
              "(199674, 152)"
            ]
          },
          "metadata": {},
          "execution_count": 137
        }
      ]
    },
    {
      "cell_type": "markdown",
      "metadata": {
        "id": "GBG0dj99FSgj"
      },
      "source": [
        "## Remove High-correlation"
      ]
    },
    {
      "cell_type": "code",
      "execution_count": null,
      "metadata": {
        "id": "Is7lgENaFSgj",
        "colab": {
          "base_uri": "https://localhost:8080/",
          "height": 81
        },
        "outputId": "5839a80c-ed7f-4c4e-cf68-616ddb874ea3"
      },
      "outputs": [
        {
          "output_type": "execute_result",
          "data": {
            "text/plain": [
              "            F1                 F2  corr_F1_F2  corr_F1_target  corr_F2_target  \\\n",
              "0  fare_BASICA  vehicle_type_AVLO         1.0        0.044525        0.044525   \n",
              "\n",
              "         F_to_delete  \n",
              "0  vehicle_type_AVLO  "
            ],
            "text/html": [
              "\n",
              "  <div id=\"df-74061c32-af81-4f4b-861e-1343c6d0bb18\">\n",
              "    <div class=\"colab-df-container\">\n",
              "      <div>\n",
              "<style scoped>\n",
              "    .dataframe tbody tr th:only-of-type {\n",
              "        vertical-align: middle;\n",
              "    }\n",
              "\n",
              "    .dataframe tbody tr th {\n",
              "        vertical-align: top;\n",
              "    }\n",
              "\n",
              "    .dataframe thead th {\n",
              "        text-align: right;\n",
              "    }\n",
              "</style>\n",
              "<table border=\"1\" class=\"dataframe\">\n",
              "  <thead>\n",
              "    <tr style=\"text-align: right;\">\n",
              "      <th></th>\n",
              "      <th>F1</th>\n",
              "      <th>F2</th>\n",
              "      <th>corr_F1_F2</th>\n",
              "      <th>corr_F1_target</th>\n",
              "      <th>corr_F2_target</th>\n",
              "      <th>F_to_delete</th>\n",
              "    </tr>\n",
              "  </thead>\n",
              "  <tbody>\n",
              "    <tr>\n",
              "      <th>0</th>\n",
              "      <td>fare_BASICA</td>\n",
              "      <td>vehicle_type_AVLO</td>\n",
              "      <td>1.0</td>\n",
              "      <td>0.044525</td>\n",
              "      <td>0.044525</td>\n",
              "      <td>vehicle_type_AVLO</td>\n",
              "    </tr>\n",
              "  </tbody>\n",
              "</table>\n",
              "</div>\n",
              "      <button class=\"colab-df-convert\" onclick=\"convertToInteractive('df-74061c32-af81-4f4b-861e-1343c6d0bb18')\"\n",
              "              title=\"Convert this dataframe to an interactive table.\"\n",
              "              style=\"display:none;\">\n",
              "        \n",
              "  <svg xmlns=\"http://www.w3.org/2000/svg\" height=\"24px\"viewBox=\"0 0 24 24\"\n",
              "       width=\"24px\">\n",
              "    <path d=\"M0 0h24v24H0V0z\" fill=\"none\"/>\n",
              "    <path d=\"M18.56 5.44l.94 2.06.94-2.06 2.06-.94-2.06-.94-.94-2.06-.94 2.06-2.06.94zm-11 1L8.5 8.5l.94-2.06 2.06-.94-2.06-.94L8.5 2.5l-.94 2.06-2.06.94zm10 10l.94 2.06.94-2.06 2.06-.94-2.06-.94-.94-2.06-.94 2.06-2.06.94z\"/><path d=\"M17.41 7.96l-1.37-1.37c-.4-.4-.92-.59-1.43-.59-.52 0-1.04.2-1.43.59L10.3 9.45l-7.72 7.72c-.78.78-.78 2.05 0 2.83L4 21.41c.39.39.9.59 1.41.59.51 0 1.02-.2 1.41-.59l7.78-7.78 2.81-2.81c.8-.78.8-2.07 0-2.86zM5.41 20L4 18.59l7.72-7.72 1.47 1.35L5.41 20z\"/>\n",
              "  </svg>\n",
              "      </button>\n",
              "      \n",
              "  <style>\n",
              "    .colab-df-container {\n",
              "      display:flex;\n",
              "      flex-wrap:wrap;\n",
              "      gap: 12px;\n",
              "    }\n",
              "\n",
              "    .colab-df-convert {\n",
              "      background-color: #E8F0FE;\n",
              "      border: none;\n",
              "      border-radius: 50%;\n",
              "      cursor: pointer;\n",
              "      display: none;\n",
              "      fill: #1967D2;\n",
              "      height: 32px;\n",
              "      padding: 0 0 0 0;\n",
              "      width: 32px;\n",
              "    }\n",
              "\n",
              "    .colab-df-convert:hover {\n",
              "      background-color: #E2EBFA;\n",
              "      box-shadow: 0px 1px 2px rgba(60, 64, 67, 0.3), 0px 1px 3px 1px rgba(60, 64, 67, 0.15);\n",
              "      fill: #174EA6;\n",
              "    }\n",
              "\n",
              "    [theme=dark] .colab-df-convert {\n",
              "      background-color: #3B4455;\n",
              "      fill: #D2E3FC;\n",
              "    }\n",
              "\n",
              "    [theme=dark] .colab-df-convert:hover {\n",
              "      background-color: #434B5C;\n",
              "      box-shadow: 0px 1px 3px 1px rgba(0, 0, 0, 0.15);\n",
              "      filter: drop-shadow(0px 1px 2px rgba(0, 0, 0, 0.3));\n",
              "      fill: #FFFFFF;\n",
              "    }\n",
              "  </style>\n",
              "\n",
              "      <script>\n",
              "        const buttonEl =\n",
              "          document.querySelector('#df-74061c32-af81-4f4b-861e-1343c6d0bb18 button.colab-df-convert');\n",
              "        buttonEl.style.display =\n",
              "          google.colab.kernel.accessAllowed ? 'block' : 'none';\n",
              "\n",
              "        async function convertToInteractive(key) {\n",
              "          const element = document.querySelector('#df-74061c32-af81-4f4b-861e-1343c6d0bb18');\n",
              "          const dataTable =\n",
              "            await google.colab.kernel.invokeFunction('convertToInteractive',\n",
              "                                                     [key], {});\n",
              "          if (!dataTable) return;\n",
              "\n",
              "          const docLinkHtml = 'Like what you see? Visit the ' +\n",
              "            '<a target=\"_blank\" href=https://colab.research.google.com/notebooks/data_table.ipynb>data table notebook</a>'\n",
              "            + ' to learn more about interactive tables.';\n",
              "          element.innerHTML = '';\n",
              "          dataTable['output_type'] = 'display_data';\n",
              "          await google.colab.output.renderOutput(dataTable, element);\n",
              "          const docLink = document.createElement('div');\n",
              "          docLink.innerHTML = docLinkHtml;\n",
              "          element.appendChild(docLink);\n",
              "        }\n",
              "      </script>\n",
              "    </div>\n",
              "  </div>\n",
              "  "
            ]
          },
          "metadata": {},
          "execution_count": 138
        }
      ],
      "source": [
        "def highly_correlated(X, y, threshold):\n",
        "    col_corr = list() # Set of all the names of deleted columns\n",
        "    colnames = list()\n",
        "    rownames = list()\n",
        "    corr_matrix = X.corr()\n",
        "    for i in range(len(corr_matrix.columns)):\n",
        "        for j in range(i):\n",
        "            if (corr_matrix.iloc[i, j] >= threshold) and (corr_matrix.columns[j] not in col_corr):\n",
        "                colnames.append(corr_matrix.columns[i]) # getting the name of column\n",
        "                rownames.append(corr_matrix.index[j])\n",
        "                col_corr.append(corr_matrix.iloc[i, j])\n",
        "    Z = pd.DataFrame({'F1':colnames,\n",
        "                      'F2':rownames,\n",
        "                      'corr_F1_F2':col_corr,\n",
        "                      'corr_F1_target': [np.abs(np.corrcoef(X[i],y)[0,1]) for i in colnames],\n",
        "                      'corr_F2_target': [np.abs(np.corrcoef(X[i],y)[0,1]) for i in rownames]\n",
        "                      })\n",
        "    Z['F_to_delete'] = rownames\n",
        "    Z['F_to_delete'][Z['corr_F1_target'] < Z['corr_F2_target']] = Z['F1'][Z['corr_F1_target'] < Z['corr_F2_target']]\n",
        "\n",
        "    return Z\n",
        "\n",
        "highly_corr = highly_correlated(X,y,0.95)\n",
        "highly_corr"
      ]
    },
    {
      "cell_type": "code",
      "source": [
        "X.drop(columns=['vehicle_type_AVLO'], inplace=True)"
      ],
      "metadata": {
        "id": "C0pF7RcWFJtS"
      },
      "execution_count": null,
      "outputs": []
    },
    {
      "cell_type": "markdown",
      "source": [
        "## Remove Low-variance"
      ],
      "metadata": {
        "id": "-_G7mFhkjr1c"
      }
    },
    {
      "cell_type": "code",
      "source": [
        "from sklearn.feature_selection import VarianceThreshold"
      ],
      "metadata": {
        "id": "DxAJP0G8FZrG"
      },
      "execution_count": null,
      "outputs": []
    },
    {
      "cell_type": "code",
      "source": [
        "vt = VarianceThreshold(threshold = 0.01) #Eliminamos columnas donde el 99% de los valores son iguales\n",
        "vt.fit(X)\n",
        "cols_lowvar = X.columns[vt.get_support()==False]\n",
        "print(len(cols_lowvar),' low variance features will be removed:\\n', cols_lowvar.to_list())"
      ],
      "metadata": {
        "id": "CpuwKC8Ljq9b",
        "colab": {
          "base_uri": "https://localhost:8080/"
        },
        "outputId": "48bd358b-a075-4900-cfea-3d2283cf9a23"
      },
      "execution_count": null,
      "outputs": [
        {
          "output_type": "stream",
          "name": "stdout",
          "text": [
            "72  low variance features will be removed:\n",
            " ['origin_ALICANTE', 'origin_CADIZ', 'origin_CASTELLON', 'origin_CIUDAD REAL', 'origin_CUENCA', 'origin_GIRONA', 'origin_GRANADA', 'origin_GUADALAJARA', 'origin_HUESCA', 'origin_LEON', 'origin_LLEIDA', 'origin_PALENCIA', 'origin_SEGOVIA', 'origin_TOLEDO', 'origin_ZAMORA', 'destination_ALICANTE', 'destination_CADIZ', 'destination_CASTELLON', 'destination_CIUDAD REAL', 'destination_CUENCA', 'destination_GIRONA', 'destination_GRANADA', 'destination_GUADALAJARA', 'destination_HUESCA', 'destination_LEON', 'destination_LLEIDA', 'destination_PALENCIA', 'destination_SEGOVIA', 'destination_TOLEDO', 'destination_ZAMORA', 'vehicle_type_ALTARIA', 'vehicle_type_AVANT-AVE', 'vehicle_type_AVANT-LD', 'vehicle_type_AVANT-MD', 'vehicle_type_AVE-AVANT', 'vehicle_type_AVE-AVE', 'vehicle_type_AVE-MD', 'vehicle_type_AVLO', 'vehicle_type_EUROMED', 'vehicle_type_LD', 'vehicle_type_LD-AVANT', 'vehicle_type_LD-MD', 'vehicle_type_MD-AVANT', 'vehicle_type_MD-AVE', 'vehicle_type_R. EXPRES', 'vehicle_type_REG.EXP.', 'vehicle_type_TORRE ORO', 'vehicle_type_TRENHOTEL', 'vehicle_class_CAMA G. CLASE', 'vehicle_class_CAMA TURISTA', 'vehicle_class_PREFERENTESOLO PLAZA H', 'vehicle_class_TURISTA - TURISTA PLUS', 'vehicle_class_TURISTA PLUS - TURISTA', 'vehicle_class_TURISTASOLO PLAZA H', 'fare_BASICA', 'fare_COD.PROMOCIONAL', 'fare_DOBLE FAMILIAR-FLEXIBLE', 'fare_INDIVIDUAL-FLEXIBLE', 'fare_MESA', 'fare_YOVOY', 'train_line_BARCELONA-VALENCIA', 'train_line_BARCELONA-ZARAGOZA', 'train_line_MADRID-CADIZ', 'train_line_MADRID-CIUDAD REAL', 'train_line_MADRID-CUENCA', 'train_line_MADRID-GRANADA', 'train_line_MADRID-GUADALAJARA', 'train_line_MADRID-HUESCA', 'train_line_MADRID-PALENCIA', 'train_line_MADRID-SEGOVIA', 'train_line_MADRID-TOLEDO', 'train_line_MADRID-ZAMORA']\n"
          ]
        }
      ]
    },
    {
      "cell_type": "code",
      "source": [
        "X.drop(columns=cols_lowvar,inplace=True)"
      ],
      "metadata": {
        "id": "xgDgOmwsFWgI"
      },
      "execution_count": null,
      "outputs": []
    },
    {
      "cell_type": "code",
      "source": [
        "X.shape"
      ],
      "metadata": {
        "colab": {
          "base_uri": "https://localhost:8080/"
        },
        "id": "0qjnqC1SGMfn",
        "outputId": "66e0518f-4fcc-4345-c263-a9659143687d"
      },
      "execution_count": null,
      "outputs": [
        {
          "output_type": "execute_result",
          "data": {
            "text/plain": [
              "(199674, 80)"
            ]
          },
          "metadata": {},
          "execution_count": 142
        }
      ]
    },
    {
      "cell_type": "markdown",
      "metadata": {
        "id": "xhFyxuvRFSgk"
      },
      "source": [
        "# Split TRAIN-TEST"
      ]
    },
    {
      "cell_type": "markdown",
      "metadata": {
        "id": "9IQbs_P_FSgk"
      },
      "source": [
        "Para este ejercicio vamos a utilizar todos el mismo TEST. Como los datos de origen ya estan ordenados aleatoriamente, vamos a tomar para TEST el ultimo 20% de los dataset."
      ]
    },
    {
      "cell_type": "code",
      "source": [
        "test_rate = 0.2\n",
        "total_rows = len(y)\n",
        "test_size = int(test_rate*total_rows)\n",
        "train_size = total_rows - test_size\n",
        "\n",
        "print('TRAIN-VALIDA: %d (%.1f%%)' %(train_size,(100-test_rate*100)))\n",
        "print('TEST: %d (%.1f%%)' %(test_size,(test_rate*100)))"
      ],
      "metadata": {
        "colab": {
          "base_uri": "https://localhost:8080/"
        },
        "id": "tseh_DZrL5Q9",
        "outputId": "f7f155c4-f32b-4879-d0de-9dbbcfcd3568"
      },
      "execution_count": null,
      "outputs": [
        {
          "output_type": "stream",
          "name": "stdout",
          "text": [
            "TRAIN-VALIDA: 159740 (80.0%)\n",
            "TEST: 39934 (20.0%)\n"
          ]
        }
      ]
    },
    {
      "cell_type": "code",
      "execution_count": null,
      "metadata": {
        "id": "qVN5JpRaFSgk"
      },
      "outputs": [],
      "source": [
        "X_train = X.head(train_size)\n",
        "y_train = y.head(train_size)\n",
        "X_test = X.tail(test_size)\n",
        "y_test = y.tail(test_size)"
      ]
    },
    {
      "cell_type": "markdown",
      "metadata": {
        "id": "Lv-HhjWHFSgl"
      },
      "source": [
        "# Rescaling"
      ]
    },
    {
      "cell_type": "markdown",
      "source": [
        "Para los modelos lineales (linear_models) y los modelos de similitud (KNN), utilizaremos un dataset estandarizado. Para los modelos de reglas (todos los ensembles) no es necesario."
      ],
      "metadata": {
        "id": "fLGfhE5OBC0Z"
      }
    },
    {
      "cell_type": "code",
      "execution_count": null,
      "metadata": {
        "id": "J2L3ArvLFSgo"
      },
      "outputs": [],
      "source": [
        "from sklearn.preprocessing import StandardScaler"
      ]
    },
    {
      "cell_type": "code",
      "source": [
        "scaler = StandardScaler()\n",
        "X_train_std = scaler.fit_transform(X_train)\n",
        "X_test_std = scaler.transform(X_test)"
      ],
      "metadata": {
        "id": "mfLhTHjROTZH"
      },
      "execution_count": null,
      "outputs": []
    },
    {
      "cell_type": "code",
      "source": [
        "#la funcion scaler nos devuelve un numpy.matrix, le devolvemos el formato de dataframe\n",
        "X_train_std = pd.DataFrame(data = X_train_std, columns=X_train.columns, index=X_train.index)\n",
        "X_test_std = pd.DataFrame(data = X_test_std, columns=X_test.columns, index=X_test.index)"
      ],
      "metadata": {
        "id": "nPz37I8fO3rC"
      },
      "execution_count": null,
      "outputs": []
    },
    {
      "cell_type": "code",
      "source": [
        "X_train_std.head(3)"
      ],
      "metadata": {
        "colab": {
          "base_uri": "https://localhost:8080/",
          "height": 254
        },
        "id": "I2BJhWtyRiOx",
        "outputId": "93e12d45-ad56-4cb1-c58d-b00b6b7a79c4"
      },
      "execution_count": null,
      "outputs": [
        {
          "output_type": "execute_result",
          "data": {
            "text/plain": [
              "   duration  weekday_n_departure  month_departure  hour_departure  \\\n",
              "0  1.379121             0.073285         1.040178        0.578145   \n",
              "1  0.017479            -0.942905        -0.718862       -0.274059   \n",
              "2 -0.238229             1.597569        -0.718862        0.365094   \n",
              "\n",
              "   weekday_n_insert_date  month_insert_date  hour_insert_date  \\\n",
              "0               0.477211           1.481247          0.056044   \n",
              "1              -0.034267          -0.299063          1.527285   \n",
              "2               1.500168          -0.744141         -1.268073   \n",
              "\n",
              "   days_before_trip  ind_weekend  ind_holidays  ...  train_line_MADRID-GIRONA  \\\n",
              "0         -0.858330    -0.565986     -0.137782  ...                 -0.128379   \n",
              "1         -0.958847    -0.565986     -0.137782  ...                 -0.128379   \n",
              "2          1.302788     1.766829     -0.137782  ...                 -0.128379   \n",
              "\n",
              "   train_line_MADRID-LEON  train_line_MADRID-LLEIDA  train_line_MADRID-MALAGA  \\\n",
              "0               -0.111944                 -0.125836                 -0.157069   \n",
              "1               -0.111944                 -0.125836                 -0.157069   \n",
              "2               -0.111944                 -0.125836                  6.366637   \n",
              "\n",
              "   train_line_MADRID-PONFERRADA  train_line_MADRID-SEVILLA  \\\n",
              "0                     -0.200273                  -0.493585   \n",
              "1                     -0.200273                  -0.493585   \n",
              "2                     -0.200273                  -0.493585   \n",
              "\n",
              "   train_line_MADRID-TARRAGONA  train_line_MADRID-VALENCIA  \\\n",
              "0                    -0.147049                    2.003567   \n",
              "1                    -0.147049                   -0.499110   \n",
              "2                    -0.147049                   -0.499110   \n",
              "\n",
              "   train_line_MADRID-VALLADOLID  train_line_MADRID-ZARAGOZA  \n",
              "0                     -0.213277                   -0.229068  \n",
              "1                     -0.213277                   -0.229068  \n",
              "2                     -0.213277                   -0.229068  \n",
              "\n",
              "[3 rows x 80 columns]"
            ],
            "text/html": [
              "\n",
              "  <div id=\"df-a1f30d1e-a81d-449a-8777-fe631ceea10a\">\n",
              "    <div class=\"colab-df-container\">\n",
              "      <div>\n",
              "<style scoped>\n",
              "    .dataframe tbody tr th:only-of-type {\n",
              "        vertical-align: middle;\n",
              "    }\n",
              "\n",
              "    .dataframe tbody tr th {\n",
              "        vertical-align: top;\n",
              "    }\n",
              "\n",
              "    .dataframe thead th {\n",
              "        text-align: right;\n",
              "    }\n",
              "</style>\n",
              "<table border=\"1\" class=\"dataframe\">\n",
              "  <thead>\n",
              "    <tr style=\"text-align: right;\">\n",
              "      <th></th>\n",
              "      <th>duration</th>\n",
              "      <th>weekday_n_departure</th>\n",
              "      <th>month_departure</th>\n",
              "      <th>hour_departure</th>\n",
              "      <th>weekday_n_insert_date</th>\n",
              "      <th>month_insert_date</th>\n",
              "      <th>hour_insert_date</th>\n",
              "      <th>days_before_trip</th>\n",
              "      <th>ind_weekend</th>\n",
              "      <th>ind_holidays</th>\n",
              "      <th>...</th>\n",
              "      <th>train_line_MADRID-GIRONA</th>\n",
              "      <th>train_line_MADRID-LEON</th>\n",
              "      <th>train_line_MADRID-LLEIDA</th>\n",
              "      <th>train_line_MADRID-MALAGA</th>\n",
              "      <th>train_line_MADRID-PONFERRADA</th>\n",
              "      <th>train_line_MADRID-SEVILLA</th>\n",
              "      <th>train_line_MADRID-TARRAGONA</th>\n",
              "      <th>train_line_MADRID-VALENCIA</th>\n",
              "      <th>train_line_MADRID-VALLADOLID</th>\n",
              "      <th>train_line_MADRID-ZARAGOZA</th>\n",
              "    </tr>\n",
              "  </thead>\n",
              "  <tbody>\n",
              "    <tr>\n",
              "      <th>0</th>\n",
              "      <td>1.379121</td>\n",
              "      <td>0.073285</td>\n",
              "      <td>1.040178</td>\n",
              "      <td>0.578145</td>\n",
              "      <td>0.477211</td>\n",
              "      <td>1.481247</td>\n",
              "      <td>0.056044</td>\n",
              "      <td>-0.858330</td>\n",
              "      <td>-0.565986</td>\n",
              "      <td>-0.137782</td>\n",
              "      <td>...</td>\n",
              "      <td>-0.128379</td>\n",
              "      <td>-0.111944</td>\n",
              "      <td>-0.125836</td>\n",
              "      <td>-0.157069</td>\n",
              "      <td>-0.200273</td>\n",
              "      <td>-0.493585</td>\n",
              "      <td>-0.147049</td>\n",
              "      <td>2.003567</td>\n",
              "      <td>-0.213277</td>\n",
              "      <td>-0.229068</td>\n",
              "    </tr>\n",
              "    <tr>\n",
              "      <th>1</th>\n",
              "      <td>0.017479</td>\n",
              "      <td>-0.942905</td>\n",
              "      <td>-0.718862</td>\n",
              "      <td>-0.274059</td>\n",
              "      <td>-0.034267</td>\n",
              "      <td>-0.299063</td>\n",
              "      <td>1.527285</td>\n",
              "      <td>-0.958847</td>\n",
              "      <td>-0.565986</td>\n",
              "      <td>-0.137782</td>\n",
              "      <td>...</td>\n",
              "      <td>-0.128379</td>\n",
              "      <td>-0.111944</td>\n",
              "      <td>-0.125836</td>\n",
              "      <td>-0.157069</td>\n",
              "      <td>-0.200273</td>\n",
              "      <td>-0.493585</td>\n",
              "      <td>-0.147049</td>\n",
              "      <td>-0.499110</td>\n",
              "      <td>-0.213277</td>\n",
              "      <td>-0.229068</td>\n",
              "    </tr>\n",
              "    <tr>\n",
              "      <th>2</th>\n",
              "      <td>-0.238229</td>\n",
              "      <td>1.597569</td>\n",
              "      <td>-0.718862</td>\n",
              "      <td>0.365094</td>\n",
              "      <td>1.500168</td>\n",
              "      <td>-0.744141</td>\n",
              "      <td>-1.268073</td>\n",
              "      <td>1.302788</td>\n",
              "      <td>1.766829</td>\n",
              "      <td>-0.137782</td>\n",
              "      <td>...</td>\n",
              "      <td>-0.128379</td>\n",
              "      <td>-0.111944</td>\n",
              "      <td>-0.125836</td>\n",
              "      <td>6.366637</td>\n",
              "      <td>-0.200273</td>\n",
              "      <td>-0.493585</td>\n",
              "      <td>-0.147049</td>\n",
              "      <td>-0.499110</td>\n",
              "      <td>-0.213277</td>\n",
              "      <td>-0.229068</td>\n",
              "    </tr>\n",
              "  </tbody>\n",
              "</table>\n",
              "<p>3 rows × 80 columns</p>\n",
              "</div>\n",
              "      <button class=\"colab-df-convert\" onclick=\"convertToInteractive('df-a1f30d1e-a81d-449a-8777-fe631ceea10a')\"\n",
              "              title=\"Convert this dataframe to an interactive table.\"\n",
              "              style=\"display:none;\">\n",
              "        \n",
              "  <svg xmlns=\"http://www.w3.org/2000/svg\" height=\"24px\"viewBox=\"0 0 24 24\"\n",
              "       width=\"24px\">\n",
              "    <path d=\"M0 0h24v24H0V0z\" fill=\"none\"/>\n",
              "    <path d=\"M18.56 5.44l.94 2.06.94-2.06 2.06-.94-2.06-.94-.94-2.06-.94 2.06-2.06.94zm-11 1L8.5 8.5l.94-2.06 2.06-.94-2.06-.94L8.5 2.5l-.94 2.06-2.06.94zm10 10l.94 2.06.94-2.06 2.06-.94-2.06-.94-.94-2.06-.94 2.06-2.06.94z\"/><path d=\"M17.41 7.96l-1.37-1.37c-.4-.4-.92-.59-1.43-.59-.52 0-1.04.2-1.43.59L10.3 9.45l-7.72 7.72c-.78.78-.78 2.05 0 2.83L4 21.41c.39.39.9.59 1.41.59.51 0 1.02-.2 1.41-.59l7.78-7.78 2.81-2.81c.8-.78.8-2.07 0-2.86zM5.41 20L4 18.59l7.72-7.72 1.47 1.35L5.41 20z\"/>\n",
              "  </svg>\n",
              "      </button>\n",
              "      \n",
              "  <style>\n",
              "    .colab-df-container {\n",
              "      display:flex;\n",
              "      flex-wrap:wrap;\n",
              "      gap: 12px;\n",
              "    }\n",
              "\n",
              "    .colab-df-convert {\n",
              "      background-color: #E8F0FE;\n",
              "      border: none;\n",
              "      border-radius: 50%;\n",
              "      cursor: pointer;\n",
              "      display: none;\n",
              "      fill: #1967D2;\n",
              "      height: 32px;\n",
              "      padding: 0 0 0 0;\n",
              "      width: 32px;\n",
              "    }\n",
              "\n",
              "    .colab-df-convert:hover {\n",
              "      background-color: #E2EBFA;\n",
              "      box-shadow: 0px 1px 2px rgba(60, 64, 67, 0.3), 0px 1px 3px 1px rgba(60, 64, 67, 0.15);\n",
              "      fill: #174EA6;\n",
              "    }\n",
              "\n",
              "    [theme=dark] .colab-df-convert {\n",
              "      background-color: #3B4455;\n",
              "      fill: #D2E3FC;\n",
              "    }\n",
              "\n",
              "    [theme=dark] .colab-df-convert:hover {\n",
              "      background-color: #434B5C;\n",
              "      box-shadow: 0px 1px 3px 1px rgba(0, 0, 0, 0.15);\n",
              "      filter: drop-shadow(0px 1px 2px rgba(0, 0, 0, 0.3));\n",
              "      fill: #FFFFFF;\n",
              "    }\n",
              "  </style>\n",
              "\n",
              "      <script>\n",
              "        const buttonEl =\n",
              "          document.querySelector('#df-a1f30d1e-a81d-449a-8777-fe631ceea10a button.colab-df-convert');\n",
              "        buttonEl.style.display =\n",
              "          google.colab.kernel.accessAllowed ? 'block' : 'none';\n",
              "\n",
              "        async function convertToInteractive(key) {\n",
              "          const element = document.querySelector('#df-a1f30d1e-a81d-449a-8777-fe631ceea10a');\n",
              "          const dataTable =\n",
              "            await google.colab.kernel.invokeFunction('convertToInteractive',\n",
              "                                                     [key], {});\n",
              "          if (!dataTable) return;\n",
              "\n",
              "          const docLinkHtml = 'Like what you see? Visit the ' +\n",
              "            '<a target=\"_blank\" href=https://colab.research.google.com/notebooks/data_table.ipynb>data table notebook</a>'\n",
              "            + ' to learn more about interactive tables.';\n",
              "          element.innerHTML = '';\n",
              "          dataTable['output_type'] = 'display_data';\n",
              "          await google.colab.output.renderOutput(dataTable, element);\n",
              "          const docLink = document.createElement('div');\n",
              "          docLink.innerHTML = docLinkHtml;\n",
              "          element.appendChild(docLink);\n",
              "        }\n",
              "      </script>\n",
              "    </div>\n",
              "  </div>\n",
              "  "
            ]
          },
          "metadata": {},
          "execution_count": 148
        }
      ]
    },
    {
      "cell_type": "markdown",
      "source": [
        "# TRAIN-VALIDA"
      ],
      "metadata": {
        "id": "vE9iZgDF-261"
      }
    },
    {
      "cell_type": "markdown",
      "metadata": {
        "id": "GzgJkGmOFSgo"
      },
      "source": [
        "## Model Competition"
      ]
    },
    {
      "cell_type": "code",
      "source": [
        "# Modelos ML de Regresion\n",
        "from sklearn.linear_model import LinearRegression, Ridge, Lasso, ElasticNet, SGDRegressor\n",
        "from sklearn.neighbors import KNeighborsRegressor\n",
        "from sklearn.tree import DecisionTreeRegressor\n",
        "from sklearn.ensemble import RandomForestRegressor\n",
        "from sklearn.svm import SVR\n",
        "from xgboost import XGBRegressor"
      ],
      "metadata": {
        "id": "xyHr3IISGY0H"
      },
      "execution_count": null,
      "outputs": []
    },
    {
      "cell_type": "code",
      "execution_count": null,
      "metadata": {
        "id": "7I8IVdb5FSgp"
      },
      "outputs": [],
      "source": [
        "def RMSE(model,X,y):\n",
        "  return round(np.sqrt(np.mean((y-model.predict(X))**2)),2)\n",
        "\n",
        "def RMSE_cross_validation(model,X,y):\n",
        "  Kfold_rmse = cross_val_score(model, X, y, cv=3, scoring='neg_root_mean_squared_error')\n",
        "  return round(-Kfold_rmse.mean(),2)"
      ]
    },
    {
      "cell_type": "code",
      "source": [
        "# Inicializa registros del dataframe\n",
        "label_ = []\n",
        "rmse_train_ = []\n",
        "rmse_valida_ = []\n",
        "\n",
        "# Funcion que devuelve un dataframe con los resultados de RMSE en Train y Cross Validation y rankea resultados\n",
        "def evaluate_regression(label,model, X, y, verbose=True, cv=True):\n",
        "\n",
        "  model.fit(X,y)\n",
        "  rmse_train = RMSE(model,X,y)\n",
        "  cross_valida = RMSE_cross_validation(model,X,y)\n",
        "\n",
        "  label_.append(label)\n",
        "  rmse_train_.append(rmse_train)\n",
        "  if cv==True:\n",
        "    rmse_valida_.append(cross_valida)\n",
        "  else:\n",
        "    rmse_valida_.append(-1)\n",
        "\n",
        "  if verbose==True:\n",
        "    return pd.DataFrame({'Model': label_,\n",
        "                       'RMSE Train': rmse_train_,\n",
        "                       'RMSE Cross-Valida': rmse_valida_\n",
        "                       }).sort_values('RMSE Cross-Valida')"
      ],
      "metadata": {
        "id": "Wiu_M_2yGxrZ"
      },
      "execution_count": null,
      "outputs": []
    },
    {
      "cell_type": "code",
      "source": [
        "evaluate_regression('Linear Regression',LinearRegression(),X_train_std,y_train)"
      ],
      "metadata": {
        "colab": {
          "base_uri": "https://localhost:8080/",
          "height": 81
        },
        "id": "ivCztjSjPsaz",
        "outputId": "dd664634-359e-4df9-8c27-5ec90eb677d7"
      },
      "execution_count": null,
      "outputs": [
        {
          "output_type": "execute_result",
          "data": {
            "text/plain": [
              "               Model  RMSE Train  RMSE Cross-Valida\n",
              "0  Linear Regression       10.67              10.68"
            ],
            "text/html": [
              "\n",
              "  <div id=\"df-bbe638eb-f4cf-496a-9fd7-9f75e65a4594\">\n",
              "    <div class=\"colab-df-container\">\n",
              "      <div>\n",
              "<style scoped>\n",
              "    .dataframe tbody tr th:only-of-type {\n",
              "        vertical-align: middle;\n",
              "    }\n",
              "\n",
              "    .dataframe tbody tr th {\n",
              "        vertical-align: top;\n",
              "    }\n",
              "\n",
              "    .dataframe thead th {\n",
              "        text-align: right;\n",
              "    }\n",
              "</style>\n",
              "<table border=\"1\" class=\"dataframe\">\n",
              "  <thead>\n",
              "    <tr style=\"text-align: right;\">\n",
              "      <th></th>\n",
              "      <th>Model</th>\n",
              "      <th>RMSE Train</th>\n",
              "      <th>RMSE Cross-Valida</th>\n",
              "    </tr>\n",
              "  </thead>\n",
              "  <tbody>\n",
              "    <tr>\n",
              "      <th>0</th>\n",
              "      <td>Linear Regression</td>\n",
              "      <td>10.67</td>\n",
              "      <td>10.68</td>\n",
              "    </tr>\n",
              "  </tbody>\n",
              "</table>\n",
              "</div>\n",
              "      <button class=\"colab-df-convert\" onclick=\"convertToInteractive('df-bbe638eb-f4cf-496a-9fd7-9f75e65a4594')\"\n",
              "              title=\"Convert this dataframe to an interactive table.\"\n",
              "              style=\"display:none;\">\n",
              "        \n",
              "  <svg xmlns=\"http://www.w3.org/2000/svg\" height=\"24px\"viewBox=\"0 0 24 24\"\n",
              "       width=\"24px\">\n",
              "    <path d=\"M0 0h24v24H0V0z\" fill=\"none\"/>\n",
              "    <path d=\"M18.56 5.44l.94 2.06.94-2.06 2.06-.94-2.06-.94-.94-2.06-.94 2.06-2.06.94zm-11 1L8.5 8.5l.94-2.06 2.06-.94-2.06-.94L8.5 2.5l-.94 2.06-2.06.94zm10 10l.94 2.06.94-2.06 2.06-.94-2.06-.94-.94-2.06-.94 2.06-2.06.94z\"/><path d=\"M17.41 7.96l-1.37-1.37c-.4-.4-.92-.59-1.43-.59-.52 0-1.04.2-1.43.59L10.3 9.45l-7.72 7.72c-.78.78-.78 2.05 0 2.83L4 21.41c.39.39.9.59 1.41.59.51 0 1.02-.2 1.41-.59l7.78-7.78 2.81-2.81c.8-.78.8-2.07 0-2.86zM5.41 20L4 18.59l7.72-7.72 1.47 1.35L5.41 20z\"/>\n",
              "  </svg>\n",
              "      </button>\n",
              "      \n",
              "  <style>\n",
              "    .colab-df-container {\n",
              "      display:flex;\n",
              "      flex-wrap:wrap;\n",
              "      gap: 12px;\n",
              "    }\n",
              "\n",
              "    .colab-df-convert {\n",
              "      background-color: #E8F0FE;\n",
              "      border: none;\n",
              "      border-radius: 50%;\n",
              "      cursor: pointer;\n",
              "      display: none;\n",
              "      fill: #1967D2;\n",
              "      height: 32px;\n",
              "      padding: 0 0 0 0;\n",
              "      width: 32px;\n",
              "    }\n",
              "\n",
              "    .colab-df-convert:hover {\n",
              "      background-color: #E2EBFA;\n",
              "      box-shadow: 0px 1px 2px rgba(60, 64, 67, 0.3), 0px 1px 3px 1px rgba(60, 64, 67, 0.15);\n",
              "      fill: #174EA6;\n",
              "    }\n",
              "\n",
              "    [theme=dark] .colab-df-convert {\n",
              "      background-color: #3B4455;\n",
              "      fill: #D2E3FC;\n",
              "    }\n",
              "\n",
              "    [theme=dark] .colab-df-convert:hover {\n",
              "      background-color: #434B5C;\n",
              "      box-shadow: 0px 1px 3px 1px rgba(0, 0, 0, 0.15);\n",
              "      filter: drop-shadow(0px 1px 2px rgba(0, 0, 0, 0.3));\n",
              "      fill: #FFFFFF;\n",
              "    }\n",
              "  </style>\n",
              "\n",
              "      <script>\n",
              "        const buttonEl =\n",
              "          document.querySelector('#df-bbe638eb-f4cf-496a-9fd7-9f75e65a4594 button.colab-df-convert');\n",
              "        buttonEl.style.display =\n",
              "          google.colab.kernel.accessAllowed ? 'block' : 'none';\n",
              "\n",
              "        async function convertToInteractive(key) {\n",
              "          const element = document.querySelector('#df-bbe638eb-f4cf-496a-9fd7-9f75e65a4594');\n",
              "          const dataTable =\n",
              "            await google.colab.kernel.invokeFunction('convertToInteractive',\n",
              "                                                     [key], {});\n",
              "          if (!dataTable) return;\n",
              "\n",
              "          const docLinkHtml = 'Like what you see? Visit the ' +\n",
              "            '<a target=\"_blank\" href=https://colab.research.google.com/notebooks/data_table.ipynb>data table notebook</a>'\n",
              "            + ' to learn more about interactive tables.';\n",
              "          element.innerHTML = '';\n",
              "          dataTable['output_type'] = 'display_data';\n",
              "          await google.colab.output.renderOutput(dataTable, element);\n",
              "          const docLink = document.createElement('div');\n",
              "          docLink.innerHTML = docLinkHtml;\n",
              "          element.appendChild(docLink);\n",
              "        }\n",
              "      </script>\n",
              "    </div>\n",
              "  </div>\n",
              "  "
            ]
          },
          "metadata": {},
          "execution_count": 73
        }
      ]
    },
    {
      "cell_type": "code",
      "source": [
        "evaluate_regression('XGBoost',XGBRegressor(objective='reg:squarederror'),X_train_std,y_train)"
      ],
      "metadata": {
        "colab": {
          "base_uri": "https://localhost:8080/",
          "height": 216
        },
        "id": "pMLZ6Oj0-WZV",
        "outputId": "c7b84367-ab46-418d-aeaf-8614cd677420"
      },
      "execution_count": null,
      "outputs": [
        {
          "output_type": "stream",
          "name": "stdout",
          "text": [
            "[14:39:53] WARNING: /workspace/src/objective/regression_obj.cu:152: reg:linear is now deprecated in favor of reg:squarederror.\n",
            "[14:40:25] WARNING: /workspace/src/objective/regression_obj.cu:152: reg:linear is now deprecated in favor of reg:squarederror.\n",
            "[14:40:51] WARNING: /workspace/src/objective/regression_obj.cu:152: reg:linear is now deprecated in favor of reg:squarederror.\n",
            "[14:41:16] WARNING: /workspace/src/objective/regression_obj.cu:152: reg:linear is now deprecated in favor of reg:squarederror.\n",
            "[14:41:42] WARNING: /workspace/src/objective/regression_obj.cu:152: reg:linear is now deprecated in favor of reg:squarederror.\n",
            "[14:42:11] WARNING: /workspace/src/objective/regression_obj.cu:152: reg:linear is now deprecated in favor of reg:squarederror.\n"
          ]
        },
        {
          "output_type": "execute_result",
          "data": {
            "text/plain": [
              "               Model  RMSE Train  RMSE Cross-Valida\n",
              "1            XGBoost        8.71               8.71\n",
              "0  Linear Regression       10.67              10.68"
            ],
            "text/html": [
              "\n",
              "  <div id=\"df-95364e17-18d2-41d5-8002-9fe3a71901bb\">\n",
              "    <div class=\"colab-df-container\">\n",
              "      <div>\n",
              "<style scoped>\n",
              "    .dataframe tbody tr th:only-of-type {\n",
              "        vertical-align: middle;\n",
              "    }\n",
              "\n",
              "    .dataframe tbody tr th {\n",
              "        vertical-align: top;\n",
              "    }\n",
              "\n",
              "    .dataframe thead th {\n",
              "        text-align: right;\n",
              "    }\n",
              "</style>\n",
              "<table border=\"1\" class=\"dataframe\">\n",
              "  <thead>\n",
              "    <tr style=\"text-align: right;\">\n",
              "      <th></th>\n",
              "      <th>Model</th>\n",
              "      <th>RMSE Train</th>\n",
              "      <th>RMSE Cross-Valida</th>\n",
              "    </tr>\n",
              "  </thead>\n",
              "  <tbody>\n",
              "    <tr>\n",
              "      <th>1</th>\n",
              "      <td>XGBoost</td>\n",
              "      <td>8.71</td>\n",
              "      <td>8.71</td>\n",
              "    </tr>\n",
              "    <tr>\n",
              "      <th>0</th>\n",
              "      <td>Linear Regression</td>\n",
              "      <td>10.67</td>\n",
              "      <td>10.68</td>\n",
              "    </tr>\n",
              "  </tbody>\n",
              "</table>\n",
              "</div>\n",
              "      <button class=\"colab-df-convert\" onclick=\"convertToInteractive('df-95364e17-18d2-41d5-8002-9fe3a71901bb')\"\n",
              "              title=\"Convert this dataframe to an interactive table.\"\n",
              "              style=\"display:none;\">\n",
              "        \n",
              "  <svg xmlns=\"http://www.w3.org/2000/svg\" height=\"24px\"viewBox=\"0 0 24 24\"\n",
              "       width=\"24px\">\n",
              "    <path d=\"M0 0h24v24H0V0z\" fill=\"none\"/>\n",
              "    <path d=\"M18.56 5.44l.94 2.06.94-2.06 2.06-.94-2.06-.94-.94-2.06-.94 2.06-2.06.94zm-11 1L8.5 8.5l.94-2.06 2.06-.94-2.06-.94L8.5 2.5l-.94 2.06-2.06.94zm10 10l.94 2.06.94-2.06 2.06-.94-2.06-.94-.94-2.06-.94 2.06-2.06.94z\"/><path d=\"M17.41 7.96l-1.37-1.37c-.4-.4-.92-.59-1.43-.59-.52 0-1.04.2-1.43.59L10.3 9.45l-7.72 7.72c-.78.78-.78 2.05 0 2.83L4 21.41c.39.39.9.59 1.41.59.51 0 1.02-.2 1.41-.59l7.78-7.78 2.81-2.81c.8-.78.8-2.07 0-2.86zM5.41 20L4 18.59l7.72-7.72 1.47 1.35L5.41 20z\"/>\n",
              "  </svg>\n",
              "      </button>\n",
              "      \n",
              "  <style>\n",
              "    .colab-df-container {\n",
              "      display:flex;\n",
              "      flex-wrap:wrap;\n",
              "      gap: 12px;\n",
              "    }\n",
              "\n",
              "    .colab-df-convert {\n",
              "      background-color: #E8F0FE;\n",
              "      border: none;\n",
              "      border-radius: 50%;\n",
              "      cursor: pointer;\n",
              "      display: none;\n",
              "      fill: #1967D2;\n",
              "      height: 32px;\n",
              "      padding: 0 0 0 0;\n",
              "      width: 32px;\n",
              "    }\n",
              "\n",
              "    .colab-df-convert:hover {\n",
              "      background-color: #E2EBFA;\n",
              "      box-shadow: 0px 1px 2px rgba(60, 64, 67, 0.3), 0px 1px 3px 1px rgba(60, 64, 67, 0.15);\n",
              "      fill: #174EA6;\n",
              "    }\n",
              "\n",
              "    [theme=dark] .colab-df-convert {\n",
              "      background-color: #3B4455;\n",
              "      fill: #D2E3FC;\n",
              "    }\n",
              "\n",
              "    [theme=dark] .colab-df-convert:hover {\n",
              "      background-color: #434B5C;\n",
              "      box-shadow: 0px 1px 3px 1px rgba(0, 0, 0, 0.15);\n",
              "      filter: drop-shadow(0px 1px 2px rgba(0, 0, 0, 0.3));\n",
              "      fill: #FFFFFF;\n",
              "    }\n",
              "  </style>\n",
              "\n",
              "      <script>\n",
              "        const buttonEl =\n",
              "          document.querySelector('#df-95364e17-18d2-41d5-8002-9fe3a71901bb button.colab-df-convert');\n",
              "        buttonEl.style.display =\n",
              "          google.colab.kernel.accessAllowed ? 'block' : 'none';\n",
              "\n",
              "        async function convertToInteractive(key) {\n",
              "          const element = document.querySelector('#df-95364e17-18d2-41d5-8002-9fe3a71901bb');\n",
              "          const dataTable =\n",
              "            await google.colab.kernel.invokeFunction('convertToInteractive',\n",
              "                                                     [key], {});\n",
              "          if (!dataTable) return;\n",
              "\n",
              "          const docLinkHtml = 'Like what you see? Visit the ' +\n",
              "            '<a target=\"_blank\" href=https://colab.research.google.com/notebooks/data_table.ipynb>data table notebook</a>'\n",
              "            + ' to learn more about interactive tables.';\n",
              "          element.innerHTML = '';\n",
              "          dataTable['output_type'] = 'display_data';\n",
              "          await google.colab.output.renderOutput(dataTable, element);\n",
              "          const docLink = document.createElement('div');\n",
              "          docLink.innerHTML = docLinkHtml;\n",
              "          element.appendChild(docLink);\n",
              "        }\n",
              "      </script>\n",
              "    </div>\n",
              "  </div>\n",
              "  "
            ]
          },
          "metadata": {},
          "execution_count": 149
        }
      ]
    },
    {
      "cell_type": "markdown",
      "metadata": {
        "id": "5DUgJZuQFSgp"
      },
      "source": [
        "## Hyperparameter Tuning"
      ]
    },
    {
      "cell_type": "code",
      "execution_count": null,
      "metadata": {
        "id": "scAT_E-pFSgq"
      },
      "outputs": [],
      "source": [
        "from sklearn.model_selection import RandomizedSearchCV"
      ]
    },
    {
      "cell_type": "code",
      "source": [
        "params = {\n",
        "    'n_estimators': [100,500,1000],\n",
        "    'max_depth': [3, 5],\n",
        "    'min_child_weight': [2, 4],\n",
        "    'subsample': [0.7,1]\n",
        "}"
      ],
      "metadata": {
        "id": "q_db5YTaHCd0"
      },
      "execution_count": null,
      "outputs": []
    },
    {
      "cell_type": "code",
      "source": [
        "search_hp = RandomizedSearchCV(estimator = XGBRegressor(),\n",
        "                   param_distributions = params,\n",
        "                   n_iter = 5,\n",
        "                   scoring= 'neg_squared_error',\n",
        "                   n_jobs= -1,\n",
        "                   cv= 3,\n",
        "                   verbose=True)"
      ],
      "metadata": {
        "id": "H0hEOwgz_2BO"
      },
      "execution_count": null,
      "outputs": []
    },
    {
      "cell_type": "code",
      "source": [
        "search_hp.fit(X_train,y_train)"
      ],
      "metadata": {
        "colab": {
          "base_uri": "https://localhost:8080/"
        },
        "id": "dGb0UwNRAmdx",
        "outputId": "ee7f8408-6f58-467a-b6df-cc9dd6e0daff"
      },
      "execution_count": null,
      "outputs": [
        {
          "output_type": "stream",
          "name": "stdout",
          "text": [
            "Fitting 2 folds for each of 3 candidates, totalling 6 fits\n",
            "[16:14:56] WARNING: /workspace/src/objective/regression_obj.cu:152: reg:linear is now deprecated in favor of reg:squarederror.\n"
          ]
        },
        {
          "output_type": "execute_result",
          "data": {
            "text/plain": [
              "RandomizedSearchCV(cv=2, estimator=XGBRegressor(), n_iter=3, n_jobs=-1,\n",
              "                   param_distributions={'max_depth': [3, 5],\n",
              "                                        'min_child_weight': [2, 4],\n",
              "                                        'n_estimators': [100, 500, 1000],\n",
              "                                        'subsample': [0.7, 1]},\n",
              "                   scoring='roc_auc', verbose=True)"
            ]
          },
          "metadata": {},
          "execution_count": 163
        }
      ]
    },
    {
      "cell_type": "code",
      "source": [
        "search_hp.best_params_"
      ],
      "metadata": {
        "colab": {
          "base_uri": "https://localhost:8080/"
        },
        "id": "abYRZ8THVdd9",
        "outputId": "7828ef91-c362-4ea1-c858-b8edd9956c84"
      },
      "execution_count": null,
      "outputs": [
        {
          "output_type": "execute_result",
          "data": {
            "text/plain": [
              "{'subsample': 0.7, 'n_estimators': 500, 'min_child_weight': 2, 'max_depth': 3}"
            ]
          },
          "metadata": {},
          "execution_count": 168
        }
      ]
    },
    {
      "cell_type": "code",
      "source": [
        "search_hp.score_"
      ],
      "metadata": {
        "id": "a4PuPWj-ob1j"
      },
      "execution_count": null,
      "outputs": []
    },
    {
      "cell_type": "markdown",
      "source": [
        "## Select best model"
      ],
      "metadata": {
        "id": "xmcmD3z-QRb8"
      }
    },
    {
      "cell_type": "markdown",
      "source": [
        "Seleccionaremos el modelo hiperparametrizado si consigue mejorar a la parametrizacion por default (la de la competicion de modelos). De lo contrario entrenamos el modelo con la configuracion default."
      ],
      "metadata": {
        "id": "yCgZ8DEVQcpf"
      }
    },
    {
      "cell_type": "code",
      "source": [
        "best_model = search_hp.best_estimator_"
      ],
      "metadata": {
        "id": "aHc9lj8eQPuS"
      },
      "execution_count": null,
      "outputs": []
    },
    {
      "cell_type": "markdown",
      "source": [
        "# TEST"
      ],
      "metadata": {
        "id": "EtmuUF3I-xSx"
      }
    },
    {
      "cell_type": "markdown",
      "source": [
        "Mediremos el error que el modelo produce la regresión en el TEST data."
      ],
      "metadata": {
        "id": "GhEcFOCJPLlN"
      }
    },
    {
      "cell_type": "code",
      "source": [
        "y_train_pred = best_model.predict(X_train)              # predicciones del modelo en los datos de TRAIN\n",
        "y_test_pred = best_model.predict(X_test)                # predicciones del modelo en los datos de TEST"
      ],
      "metadata": {
        "id": "Wbd9gQgBFjfJ"
      },
      "execution_count": null,
      "outputs": []
    },
    {
      "cell_type": "markdown",
      "source": [
        "* **RMSE, MAE y MAPE**"
      ],
      "metadata": {
        "id": "FHvk8JG1-DrY"
      }
    },
    {
      "cell_type": "code",
      "source": [
        "error = y_test_pred - y_test.values\n",
        "\n",
        "mae = np.mean(np.abs(error))\n",
        "mape = np.mean(error/y_test)\n",
        "mse = np.mean(error**2)\n",
        "rmse = np.sqrt(np.mean(error**2))\n",
        "\n",
        "print('RMSE:', round(rmse,4))\n",
        "print('MAE:', round(mae,4))\n",
        "print('MAPE: {:.3%}'.format(mape))\n",
        "print('R2-Score: {:.2%}'.format(r2_score(y_test, y_test_pred)))"
      ],
      "metadata": {
        "id": "LiK6lrMD-oNq",
        "colab": {
          "base_uri": "https://localhost:8080/"
        },
        "outputId": "a4be06e6-407a-48d7-eee0-e2172b926ff3"
      },
      "execution_count": null,
      "outputs": [
        {
          "output_type": "stream",
          "name": "stdout",
          "text": [
            "RMSE: 7.3122\n",
            "MAE: 5.125\n",
            "MAPE: 2.342%\n",
            "R2-Score: 91.31%\n"
          ]
        }
      ]
    },
    {
      "cell_type": "code",
      "metadata": {
        "id": "k6T-_wtWuyoq",
        "colab": {
          "base_uri": "https://localhost:8080/",
          "height": 430
        },
        "outputId": "09642dc4-e92d-425e-ae9f-4588101ba8d0"
      },
      "source": [
        "#Compara Prediccion vs dato real\n",
        "plt.figure(figsize=[10,6])\n",
        "plt.scatter(y_test,y_test_pred)\n",
        "plt.plot(y_test,y_test,'r')\n",
        "plt.title('True vs Predicted')\n",
        "plt.xlabel('True values')\n",
        "plt.ylabel('Predicted values')\n",
        "plt.legend(['Regresion Ideal (0% Error)','Nuestra Regresión'])\n",
        "plt.show()"
      ],
      "execution_count": null,
      "outputs": [
        {
          "output_type": "display_data",
          "data": {
            "text/plain": [
              "<Figure size 720x432 with 1 Axes>"
            ],
            "image/png": "[encoded data removed]"
          },
          "metadata": {}
        }
      ]
    },
    {
      "cell_type": "markdown",
      "source": [
        "**Distribución del error**"
      ],
      "metadata": {
        "id": "a4TrskzkVuGw"
      }
    },
    {
      "cell_type": "code",
      "metadata": {
        "id": "6lnZ4vybuyor",
        "colab": {
          "base_uri": "https://localhost:8080/",
          "height": 393
        },
        "outputId": "58a96bf0-b0f9-4f5f-8bec-02168f512dec"
      },
      "source": [
        "sns.set(rc={'figure.figsize':(12,6)})\n",
        "sns.distplot(error).set_title('Distribucion Error')\n",
        "plt.show()"
      ],
      "execution_count": null,
      "outputs": [
        {
          "output_type": "display_data",
          "data": {
            "text/plain": [
              "<Figure size 864x432 with 1 Axes>"
            ],
            "image/png": "[encoded data removed]"
          },
          "metadata": {}
        }
      ]
    },
    {
      "cell_type": "code",
      "source": [
        "round(pd.Series(error).describe(),2)"
      ],
      "metadata": {
        "id": "HSwJalX0PyI3",
        "colab": {
          "base_uri": "https://localhost:8080/"
        },
        "outputId": "47fa1ad2-05d1-4890-a103-224e79bb685e"
      },
      "execution_count": null,
      "outputs": [
        {
          "output_type": "execute_result",
          "data": {
            "text/plain": [
              "count    39934.00\n",
              "mean        -0.02\n",
              "std          7.31\n",
              "min        -58.51\n",
              "25%         -3.71\n",
              "50%          0.04\n",
              "75%          2.94\n",
              "max         44.09\n",
              "dtype: float64"
            ]
          },
          "metadata": {},
          "execution_count": 179
        }
      ]
    },
    {
      "cell_type": "markdown",
      "source": [
        "**Error interval:**"
      ],
      "metadata": {
        "id": "hdANGP9rSVF1"
      }
    },
    {
      "cell_type": "code",
      "source": [
        "confidence=95\n",
        "z = (100-confidence)/2\n",
        "print(\"Intervalo del error (confianza\",confidence,\"%):\",round(np.percentile(error, 100-z),1),\"/\",round(np.percentile(error, z),1))"
      ],
      "metadata": {
        "id": "V36cfRxiSTlx",
        "colab": {
          "base_uri": "https://localhost:8080/"
        },
        "outputId": "79f8bbe4-5ce2-45c4-abe2-d1dc39977902"
      },
      "execution_count": null,
      "outputs": [
        {
          "output_type": "stream",
          "name": "stdout",
          "text": [
            "Intervalo del error (confianza 95 %): 16.4 / -14.3\n"
          ]
        }
      ]
    },
    {
      "cell_type": "markdown",
      "metadata": {
        "id": "reoOz299FSgq"
      },
      "source": [
        "# Interpretability"
      ]
    },
    {
      "cell_type": "markdown",
      "source": [
        "Visualizaremos TOP FEATURES y, en caso de ser un modelo de REGLAS, visualizaremos el arbol de decision."
      ],
      "metadata": {
        "id": "iU0WE6fqQA5a"
      }
    },
    {
      "cell_type": "markdown",
      "metadata": {
        "id": "ayJmcAueNyFv"
      },
      "source": [
        "* Articulo detallando las metricas de evaluacion del XGBoost: https://mljar.com/blog/feature-importance-xgboost/\n",
        "  * **Feature Importance (weight)**: basado en la presencia de la variable en las ramas de los arboles del modelo.\n",
        "  * **SHAP value (mean)**: analisis variable a variable del impacto promedio en el output que causa una desviación en esta variable.\n",
        "  * **SHAP value distribution**: sentido del impacto (positivo o negativo) con respecto al target."
      ]
    },
    {
      "cell_type": "markdown",
      "source": [
        "* Feature importance"
      ],
      "metadata": {
        "id": "a3RBBkslS_gn"
      }
    },
    {
      "cell_type": "code",
      "metadata": {
        "id": "EAeFqdf9NyFv",
        "colab": {
          "base_uri": "https://localhost:8080/",
          "height": 538
        },
        "outputId": "9b8d43e0-2cd1-4605-eb07-a53d2d9010d0"
      },
      "source": [
        "# Feature importance: numero de veces que emplea la variable para determinar el output\n",
        "rcParams['figure.figsize'] = 12,8\n",
        "sns.set(context=\"talk\")\n",
        "xgb.plot_importance(best_model, max_num_features=20, importance_type='weight')\n",
        "plt.show()"
      ],
      "execution_count": null,
      "outputs": [
        {
          "output_type": "display_data",
          "data": {
            "text/plain": [
              "<Figure size 864x576 with 1 Axes>"
            ],
            "image/png": "[encoded data removed]"
          },
          "metadata": {}
        }
      ]
    },
    {
      "cell_type": "markdown",
      "source": [
        "* SHAP values"
      ],
      "metadata": {
        "id": "TE82Kqc_TB6f"
      }
    },
    {
      "cell_type": "code",
      "metadata": {
        "id": "H_99PhEaNyFv",
        "colab": {
          "base_uri": "https://localhost:8080/",
          "height": 676
        },
        "outputId": "f4779620-b057-4a39-ef07-753343ce86a3"
      },
      "source": [
        "#SHAP value: peso en el output final\n",
        "explainer = shap.TreeExplainer(best_model)\n",
        "shap_values = explainer.shap_values(X_test)\n",
        "plt.title('SHAP values')\n",
        "shap.summary_plot(shap_values, X_test, plot_type=\"bar\", max_display=20)"
      ],
      "execution_count": null,
      "outputs": [
        {
          "output_type": "display_data",
          "data": {
            "text/plain": [
              "<Figure size 576x684 with 1 Axes>"
            ],
            "image/png": "[encoded data removed]"
          },
          "metadata": {}
        }
      ]
    },
    {
      "cell_type": "code",
      "source": [
        "shap.summary_plot(shap_values, X_test)"
      ],
      "metadata": {
        "id": "l6BgvUAn5cdW",
        "colab": {
          "base_uri": "https://localhost:8080/",
          "height": 676
        },
        "outputId": "21e7aa12-f045-4055-dfeb-2285930b50be"
      },
      "execution_count": null,
      "outputs": [
        {
          "output_type": "display_data",
          "data": {
            "text/plain": [
              "<Figure size 576x684 with 2 Axes>"
            ],
            "image/png": "[encoded data removed]"
          },
          "metadata": {}
        }
      ]
    },
    {
      "cell_type": "markdown",
      "source": [
        "* Decision Trees"
      ],
      "metadata": {
        "id": "7dnP20t1WirX"
      }
    },
    {
      "cell_type": "code",
      "source": [
        "# Visualiza un árbol concreto de los [n_estimators] que utiliza el XGBoost\n",
        "plt.rcParams[\"figure.figsize\"] =[30, 20]\n",
        "plot_tree(best_model, num_trees=20)\n",
        "plt.show()"
      ],
      "metadata": {
        "id": "Spqj-xJL3vH2",
        "colab": {
          "base_uri": "https://localhost:8080/",
          "height": 355
        },
        "outputId": "5f481a3b-cfea-491f-cd18-d798fb9bc654"
      },
      "execution_count": null,
      "outputs": [
        {
          "output_type": "display_data",
          "data": {
            "text/plain": [
              "<Figure size 2160x1440 with 1 Axes>"
            ],
            "image/png": "[encoded data removed]"
          },
          "metadata": {}
        }
      ]
    },
    {
      "cell_type": "code",
      "source": [],
      "metadata": {
        "id": "7gBZeqJ6TJvj"
      },
      "execution_count": null,
      "outputs": []
    },
    {
      "cell_type": "markdown",
      "metadata": {
        "id": "g0LPmpzWFSgr"
      },
      "source": [
        "# Save model"
      ]
    },
    {
      "cell_type": "code",
      "execution_count": null,
      "metadata": {
        "id": "gwvkJALyFSgr"
      },
      "outputs": [],
      "source": [
        "pickle.dump(my_model, open('my_model.pkl', 'wb'))"
      ]
    },
    {
      "cell_type": "markdown",
      "source": [
        "# PREDICT"
      ],
      "metadata": {
        "id": "GQtxhjvglXvg"
      }
    },
    {
      "cell_type": "markdown",
      "metadata": {
        "id": "FpZI8jEUFSgr"
      },
      "source": [
        "## OPCION A) Generar listado de predicts"
      ]
    },
    {
      "cell_type": "markdown",
      "metadata": {
        "id": "_meH_hj5FSgs"
      },
      "source": [
        "Se pide hacer predicciones de precio para los datos de validacion y calcular el RMSE en validacion"
      ]
    },
    {
      "cell_type": "code",
      "execution_count": null,
      "metadata": {
        "id": "GVARVYaXFSgs"
      },
      "outputs": [],
      "source": [
        "# Read predict dataset\n",
        "X_pred = pd.read_csv('/content/drive/MyDrive/Colab Notebooks/3 - Regresion/DSC - Regresion (III)/renfe_predict.csv')"
      ]
    },
    {
      "cell_type": "code",
      "source": [
        "X_pred.head(3)"
      ],
      "metadata": {
        "id": "ZCjVmF2zn3uM"
      },
      "execution_count": null,
      "outputs": []
    },
    {
      "cell_type": "markdown",
      "metadata": {
        "id": "qlbZ7v2AFSgs"
      },
      "source": [
        "**Hay que replicar pasos del preprocessing en dataset validacion**\n",
        "1. Cambios de formato\n",
        "2. Feature Engineering\n",
        "3. One hot encoding\n",
        "4. Eliminacion de columnas\n",
        "5. Estandarizacion de X (aplicar el mismo .transform)"
      ]
    },
    {
      "cell_type": "code",
      "execution_count": null,
      "metadata": {
        "id": "4fy7TMqtFSgt"
      },
      "outputs": [],
      "source": [
        "#Importa modelo\n",
        "model = pickle.load(open('my_model.pkl', 'rb'))"
      ]
    },
    {
      "cell_type": "markdown",
      "source": [
        "## OPCION B) Predict ficticio (si no diese tiempo la opcion A)"
      ],
      "metadata": {
        "id": "-iao4UB0UmLD"
      }
    },
    {
      "cell_type": "markdown",
      "source": [
        "¿Cuanto costará un billete de AVE Barcelona -> Madrid (2.6h) en clase Turista y tarifa Promo un Domingo 5 de Mayo a las 18h a 10 dias del viaje?\n",
        "<br><br>\n",
        "Crea un registro ficticio de las variables acorde al caso y haz un predict con esos datos."
      ],
      "metadata": {
        "id": "Oy_Q6MRaVP3e"
      }
    },
    {
      "cell_type": "code",
      "source": [
        "X_train.columns"
      ],
      "metadata": {
        "id": "vfUC75wUWBrL"
      },
      "execution_count": null,
      "outputs": []
    }
  ],
  "metadata": {
    "kernelspec": {
      "display_name": "Python 3",
      "language": "python",
      "name": "python3"
    },
    "language_info": {
      "codemirror_mode": {
        "name": "ipython",
        "version": 3
      },
      "file_extension": ".py",
      "mimetype": "text/x-python",
      "name": "python",
      "nbconvert_exporter": "python",
      "pygments_lexer": "ipython3",
      "version": "3.8.3"
    },
    "toc": {
      "base_numbering": 1,
      "nav_menu": {},
      "number_sections": true,
      "sideBar": true,
      "skip_h1_title": false,
      "title_cell": "Table of Contents",
      "title_sidebar": "Contents",
      "toc_cell": false,
      "toc_position": {
        "height": "calc(100% - 180px)",
        "left": "10px",
        "top": "150px",
        "width": "384px"
      },
      "toc_section_display": true,
      "toc_window_display": true
    },
    "colab": {
      "provenance": [],
      "collapsed_sections": [
        "P83RJlXfP4RV",
        "5yTi4ESWFSge",
        "vAMtt3W4FSgh",
        "F1RxbMQFFSgj",
        "GBG0dj99FSgj",
        "-_G7mFhkjr1c",
        "xhFyxuvRFSgk",
        "Lv-HhjWHFSgl",
        "vE9iZgDF-261",
        "GzgJkGmOFSgo",
        "5DUgJZuQFSgp",
        "xmcmD3z-QRb8",
        "EtmuUF3I-xSx",
        "reoOz299FSgq",
        "g0LPmpzWFSgr",
        "GQtxhjvglXvg",
        "FpZI8jEUFSgr",
        "-iao4UB0UmLD"
      ],
      "include_colab_link": true
    }
  },
  "nbformat": 4,
  "nbformat_minor": 0
}